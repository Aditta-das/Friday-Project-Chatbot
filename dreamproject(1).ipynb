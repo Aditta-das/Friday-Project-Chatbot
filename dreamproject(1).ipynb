{
  "nbformat": 4,
  "nbformat_minor": 0,
  "metadata": {
    "colab": {
      "name": "dreamproject.ipynb",
      "provenance": [],
      "collapsed_sections": []
    },
    "kernelspec": {
      "name": "python3",
      "display_name": "Python 3"
    },
    "language_info": {
      "name": "python"
    }
  },
  "cells": [
    {
      "cell_type": "code",
      "metadata": {
        "colab": {
          "base_uri": "https://localhost:8080/"
        },
        "id": "oQisSynCWxRs",
        "outputId": "2b9d3fb1-253d-495b-e158-1524d8cb8404"
      },
      "source": [
        "from google.colab import drive\n",
        "drive.mount('/content/drive')"
      ],
      "execution_count": null,
      "outputs": [
        {
          "output_type": "stream",
          "text": [
            "Mounted at /content/drive\n"
          ],
          "name": "stdout"
        }
      ]
    },
    {
      "cell_type": "code",
      "metadata": {
        "id": "pF5QGlT4bOif"
      },
      "source": [
        "from IPython.display import *\n",
        "!pip install torchaudio librosa pydub ffmpeg\n",
        "clear_output()"
      ],
      "execution_count": null,
      "outputs": []
    },
    {
      "cell_type": "code",
      "metadata": {
        "id": "rcmgquKb002u"
      },
      "source": [
        "# model\n",
        "import numpy as np # linear algebra\n",
        "import pandas as pd # data processing, CSV file I/O (e.g. pd.read_csv)\n",
        "import os\n",
        "import matplotlib.pyplot as plt\n",
        "from IPython.display import clear_output\n",
        "import torchaudio\n",
        "import torch\n",
        "import torch.nn as nn\n",
        "from sklearn import model_selection\n",
        "from sklearn import metrics\n",
        "from tabulate import tabulate\n",
        "from tqdm import tqdm\n",
        "from torch.utils.tensorboard import SummaryWriter\n",
        "import warnings\n",
        "warnings.filterwarnings(\"ignore\")\n",
        "class AudioLSTM(nn.Module):\n",
        "\n",
        "    def __init__(self, n_feature=5, out_feature=1, n_hidden=256, n_layers=2, drop_prob=0.5):\n",
        "        super().__init__()\n",
        "        self.drop_prob = drop_prob\n",
        "        self.n_layers = n_layers\n",
        "        self.n_hidden = n_hidden\n",
        "        self.n_feature = n_feature\n",
        "\n",
        "        self.lstm = nn.LSTM(self.n_feature, self.n_hidden, self.n_layers, dropout=self.drop_prob, batch_first=True)\n",
        "\n",
        "        self.dropout = nn.Dropout(drop_prob)\n",
        "\n",
        "        self.fc = nn.Linear(n_hidden, out_feature)\n",
        "\n",
        "    def forward(self, x, hidden):\n",
        "        # x.shape (batch, seq_len, n_features)\n",
        "        l_out, l_hidden = self.lstm(x, hidden)\n",
        "\n",
        "        # out.shape (batch, seq_len, n_hidden*direction)\n",
        "        out = self.dropout(l_out)\n",
        "\n",
        "        # out.shape (batch, out_feature)\n",
        "        out = self.fc(out[:, -1, :])\n",
        "\n",
        "        # return the final output and the hidden state\n",
        "        return out, l_hidden\n",
        "\n",
        "    def init_hidden(self, batch_size):\n",
        "        weight = next(self.parameters()).data\n",
        "\n",
        "        hidden = (weight.new(self.n_layers, batch_size, self.n_hidden).zero_().cuda(),\n",
        "                  weight.new(self.n_layers, batch_size, self.n_hidden).zero_().cuda())\n",
        "        return hidden"
      ],
      "execution_count": null,
      "outputs": []
    },
    {
      "cell_type": "code",
      "metadata": {
        "id": "4uXQn6efpn-a"
      },
      "source": [
        "import IPython.display as ipd\n",
        "import torchaudio\n",
        "SOUND_PATH = \"/content/drive/MyDrive/DREAM/Wakewords/input/cv-other-dev\"\n",
        "class AudioDataset:\n",
        "  def __init__(self, sound_path, class_id, augmentations=None):\n",
        "    self.sound_path = sound_path\n",
        "    self.class_id = class_id\n",
        "    self.augmentations = augmentations\n",
        "    \n",
        "  def __len__(self):\n",
        "    return len(self.sound_path)\n",
        "\n",
        "  def __getitem__(self, idx):\n",
        "    path = self.sound_path[idx]\n",
        "    waveform, sr = torchaudio.load(path)\n",
        "    audio_mono = torch.mean(waveform, dim=0, keepdim=True) \n",
        "    tempData = torch.zeros([1, 160000])\n",
        "    if audio_mono.numel() < 160000:\n",
        "        tempData[:, :audio_mono.numel()] = audio_mono\n",
        "    else:\n",
        "        tempData = audio_mono[:, :160000]\n",
        "    audio_mono=tempData\n",
        "    mel_specgram = torchaudio.transforms.MelSpectrogram(sr)(audio_mono)\n",
        "    mel_specgram_norm = (mel_specgram - mel_specgram.mean()) / mel_specgram.std()\n",
        "    mfcc = torchaudio.transforms.MFCC(sample_rate=sr)(audio_mono)\n",
        "#         print(f'mfcc {mfcc.size()}')\n",
        "    mfcc_norm = (mfcc - mfcc.mean()) / mfcc.std()\n",
        "    new_feat = torch.cat([mel_specgram, mfcc], axis=1)\n",
        "    \n",
        "    return {\n",
        "        \"specgram\": torch.tensor(new_feat[0].permute(1, 0), dtype=torch.float),\n",
        "        \"label\": torch.tensor(self.class_id[idx], dtype=torch.float)\n",
        "    }"
      ],
      "execution_count": null,
      "outputs": []
    },
    {
      "cell_type": "code",
      "metadata": {
        "id": "6HueWe5x_UgF"
      },
      "source": [
        "# Import All Necessary Packages\n",
        "\n",
        "import numpy as np # linear algebra\n",
        "import pandas as pd # data processing, CSV file I/O (e.g. pd.read_csv)\n",
        "import os\n",
        "import matplotlib.pyplot as plt\n",
        "from IPython.display import clear_output\n",
        "import torchaudio\n",
        "import torch\n",
        "import torch.nn as nn\n",
        "from sklearn import model_selection\n",
        "from sklearn import metrics\n",
        "from sklearn import metrics\n",
        "from tabulate import tabulate\n",
        "from tqdm import tqdm\n",
        "from torch.utils.tensorboard import SummaryWriter\n",
        "import warnings\n",
        "warnings.filterwarnings(\"ignore\")\n",
        "\n",
        "device = torch.device(\"cuda\" if torch.cuda.is_available() else \"cpu\")\n",
        "\n",
        "def collate_fn(data):\n",
        "    specs = []\n",
        "    labels = []\n",
        "    for d in data:\n",
        "        spec = d[\"specgram\"].to(device)\n",
        "        label = d[\"label\"].to(device)\n",
        "        specs.append(spec)\n",
        "        labels.append(label)\n",
        "    spec = torch.nn.utils.rnn.pad_sequence(specs, batch_first=True, padding_value=0.)\n",
        "    labels = torch.tensor(labels)\n",
        "    return spec, labels\n",
        "\n",
        "\n",
        "# FILE_PATH = \"/content/drive/MyDrive/DREAM/Wakewords/input/cv-other-dev\"\n",
        "\n",
        "if __name__ == \"__main__\":\n",
        "    df = pd.read_csv(\"/content/drive/MyDrive/DREAM/Wakewords/input/example250.csv\")\n",
        "    files = df[\"files\"].values.tolist()\n",
        "    # folder_fold = df[\"fold\"].values\n",
        "    label = df[\"label\"].values.tolist()\n",
        "    path = [\n",
        "        os.path.join(SOUND_PATH, file) for file in files\n",
        "    ]\n",
        "    \n",
        "    X_train, X_test, y_train, y_test = model_selection.train_test_split(path, label, random_state=42, test_size=0.3)\n",
        "    \n",
        "    train_dataset = AudioDataset(\n",
        "        sound_path=X_train,\n",
        "        class_id=y_train\n",
        "    )\n",
        "    \n",
        "    train_loader = torch.utils.data.DataLoader(\n",
        "        train_dataset, batch_size=8, shuffle=True, drop_last=True, collate_fn=collate_fn\n",
        "    )\n",
        "    \n",
        "    test_dataset = AudioDataset(\n",
        "        sound_path=X_test,\n",
        "        class_id=y_test\n",
        "    )\n",
        "    \n",
        "    test_loader = torch.utils.data.DataLoader(\n",
        "        test_dataset, batch_size=8, shuffle=False, drop_last=True, collate_fn=collate_fn\n",
        "    )"
      ],
      "execution_count": null,
      "outputs": []
    },
    {
      "cell_type": "code",
      "metadata": {
        "colab": {
          "base_uri": "https://localhost:8080/"
        },
        "id": "qxKeLFESAg0Q",
        "outputId": "18be4a46-937d-496d-fbcf-6ae78b639776"
      },
      "source": [
        "from sklearn import metrics\n",
        "from tabulate import tabulate\n",
        "from tqdm import tqdm\n",
        "\n",
        "def save_model(model, filename):\n",
        "  torch.save(model, filename)\n",
        "  print(\"-> Model Saved\")\n",
        "\n",
        "\n",
        "def binary_accuracy(preds, y):\n",
        "  rounded_preds = torch.round(preds)\n",
        "  acc = rounded_preds.eq(y.view_as(rounded_preds)).sum().item() / len(y)\n",
        "  return acc\n",
        "\n",
        "def train(epoch, data_loader, model, optimizer, device):\n",
        "  losses = []\n",
        "  preds = []\n",
        "  labels = []\n",
        "  model.train()\n",
        "  loop = tqdm(data_loader)\n",
        "  for idx, (spec, label) in enumerate(loop):\n",
        "    spec, label = spec.to(device), label.to(device)\n",
        "    optimizer.zero_grad()\n",
        "    output, hidden_state = model(spec, model.init_hidden(8))\n",
        "    output = torch.flatten(output)\n",
        "    # print(label.view(-1, 1).unsqueeze(1).shape)\n",
        "    loss = nn.BCEWithLogitsLoss()(output, label)\n",
        "    loss.backward()\n",
        "    optimizer.step()\n",
        "    losses.append(loss.item())\n",
        "    pred = torch.sigmoid(output)\n",
        "    preds += torch.flatten(torch.round(pred)).cpu()\n",
        "    labels += torch.flatten(label).cpu()\n",
        "    loop.set_description(f\"EPOCH: {epoch} | ITERATION : {idx}/{len(data_loader)} | LOSS: {loss.item()}\")\n",
        "    loop.set_postfix(loss=loss.item())\n",
        "  avg_train_loss = sum(losses) / len(losses)\n",
        "  acc = binary_accuracy(torch.tensor(preds), torch.tensor(labels))\n",
        "  print(f\"Avg. train loss: {avg_train_loss}\")\n",
        "  report = metrics.classification_report(torch.tensor(labels).numpy(), torch.tensor(preds).numpy())\n",
        "  print(report)\n",
        "\n",
        "  return acc, report\n",
        "\n",
        "def evaluate(data_loader, model, optimizer, device):\n",
        "  accs = []\n",
        "  preds = []\n",
        "  labels = []\n",
        "  loop = tqdm(data_loader)\n",
        "  with torch.no_grad():\n",
        "    for idx, (mfcc, label) in enumerate(loop):\n",
        "      mfcc, label = mfcc.to(device), label.to(device)\n",
        "      output, hidden_state = model(mfcc, model.init_hidden(8))\n",
        "      pred = torch.sigmoid(output)\n",
        "      acc = binary_accuracy(pred, label)\n",
        "      preds += torch.flatten(torch.round(pred)).cpu()\n",
        "      labels += torch.flatten(label).cpu()\n",
        "      accs.append(acc)\n",
        "      print(\"Iter: {}/{}, accuracy: {}\".format(idx, len(test_loader), acc), end=\"\\r\")\n",
        "  average_acc = sum(accs)/len(accs) \n",
        "  print('Average test Accuracy:', average_acc, \"\\n\")\n",
        "  report = metrics.classification_report(labels, preds)\n",
        "  print(report)\n",
        "  return average_acc, report\n",
        "\n",
        "\n",
        "def main():\n",
        "  device = torch.device(\"cuda\" if torch.cuda.is_available() else \"cpu\")\n",
        "  model = AudioLSTM(n_feature=168, out_feature=1).to(device)\n",
        "  optimizer = torch.optim.AdamW(model.parameters(), lr=1e-4)\n",
        "  best_acc = 0\n",
        "  best_epoch = 0\n",
        "  for epoch in range(20):\n",
        "    train_acc, train_report = train(epoch, train_loader, model, optimizer, device)\n",
        "    test_acc, test_report = evaluate(test_loader, model, optimizer, device)\n",
        "    if train_acc > best_acc:\n",
        "      best_acc = train_acc\n",
        "      best_epoch = epoch\n",
        "      filename = f\"model_epoch_{epoch}.pth.tar\"\n",
        "      checkpoint = {\"model\":AudioLSTM(n_feature=168, out_feature=1), \"state_dict\": model.state_dict(), \"optimizer\": optimizer.state_dict()}\n",
        "      save_model(checkpoint, filename)\n",
        "    table = [\n",
        "            [\"train_acc\", train_acc], [\"test_acc\", test_acc],\n",
        "            [\"best_acc\", best_acc], [\"best_epoch\", epoch]\n",
        "          ]\n",
        "    print(tabulate(table))\n",
        "main()"
      ],
      "execution_count": null,
      "outputs": [
        {
          "output_type": "stream",
          "text": [
            "EPOCH: 0 | ITERATION : 39/40 | LOSS: 0.6436424255371094: 100%|██████████| 40/40 [02:58<00:00,  4.46s/it, loss=0.644]\n",
            "  0%|          | 0/17 [00:00<?, ?it/s]"
          ],
          "name": "stderr"
        },
        {
          "output_type": "stream",
          "text": [
            "Avg. train loss: 0.6787327796220779\n",
            "              precision    recall  f1-score   support\n",
            "\n",
            "         0.0       0.69      0.48      0.56       166\n",
            "         1.0       0.58      0.77      0.66       154\n",
            "\n",
            "    accuracy                           0.62       320\n",
            "   macro avg       0.64      0.62      0.61       320\n",
            "weighted avg       0.64      0.62      0.61       320\n",
            "\n"
          ],
          "name": "stdout"
        },
        {
          "output_type": "stream",
          "text": [
            "\r  6%|▌         | 1/17 [00:03<00:58,  3.64s/it]"
          ],
          "name": "stderr"
        },
        {
          "output_type": "stream",
          "text": [
            "Iter: 0/17, accuracy: 0.375\r"
          ],
          "name": "stdout"
        },
        {
          "output_type": "stream",
          "text": [
            "\r 12%|█▏        | 2/17 [00:06<00:52,  3.52s/it]"
          ],
          "name": "stderr"
        },
        {
          "output_type": "stream",
          "text": [
            "Iter: 1/17, accuracy: 1.0\r"
          ],
          "name": "stdout"
        },
        {
          "output_type": "stream",
          "text": [
            "\r 18%|█▊        | 3/17 [00:11<00:52,  3.76s/it]"
          ],
          "name": "stderr"
        },
        {
          "output_type": "stream",
          "text": [
            "Iter: 2/17, accuracy: 0.625\r"
          ],
          "name": "stdout"
        },
        {
          "output_type": "stream",
          "text": [
            "\r 24%|██▎       | 4/17 [00:14<00:47,  3.67s/it]"
          ],
          "name": "stderr"
        },
        {
          "output_type": "stream",
          "text": [
            "Iter: 3/17, accuracy: 0.625\r"
          ],
          "name": "stdout"
        },
        {
          "output_type": "stream",
          "text": [
            "\r 29%|██▉       | 5/17 [00:18<00:42,  3.57s/it]"
          ],
          "name": "stderr"
        },
        {
          "output_type": "stream",
          "text": [
            "Iter: 4/17, accuracy: 0.75\r"
          ],
          "name": "stdout"
        },
        {
          "output_type": "stream",
          "text": [
            "\r 35%|███▌      | 6/17 [00:21<00:39,  3.62s/it]"
          ],
          "name": "stderr"
        },
        {
          "output_type": "stream",
          "text": [
            "Iter: 5/17, accuracy: 0.5\r"
          ],
          "name": "stdout"
        },
        {
          "output_type": "stream",
          "text": [
            "\r 41%|████      | 7/17 [00:25<00:36,  3.68s/it]"
          ],
          "name": "stderr"
        },
        {
          "output_type": "stream",
          "text": [
            "Iter: 6/17, accuracy: 0.75\r"
          ],
          "name": "stdout"
        },
        {
          "output_type": "stream",
          "text": [
            "\r 47%|████▋     | 8/17 [00:28<00:32,  3.57s/it]"
          ],
          "name": "stderr"
        },
        {
          "output_type": "stream",
          "text": [
            "Iter: 7/17, accuracy: 0.75\r"
          ],
          "name": "stdout"
        },
        {
          "output_type": "stream",
          "text": [
            "\r 53%|█████▎    | 9/17 [00:32<00:29,  3.70s/it]"
          ],
          "name": "stderr"
        },
        {
          "output_type": "stream",
          "text": [
            "Iter: 8/17, accuracy: 0.75\r"
          ],
          "name": "stdout"
        },
        {
          "output_type": "stream",
          "text": [
            "\r 59%|█████▉    | 10/17 [00:35<00:24,  3.52s/it]"
          ],
          "name": "stderr"
        },
        {
          "output_type": "stream",
          "text": [
            "Iter: 9/17, accuracy: 0.75\r"
          ],
          "name": "stdout"
        },
        {
          "output_type": "stream",
          "text": [
            "\r 65%|██████▍   | 11/17 [00:39<00:20,  3.41s/it]"
          ],
          "name": "stderr"
        },
        {
          "output_type": "stream",
          "text": [
            "Iter: 10/17, accuracy: 0.875\r"
          ],
          "name": "stdout"
        },
        {
          "output_type": "stream",
          "text": [
            "\r 71%|███████   | 12/17 [00:43<00:18,  3.62s/it]"
          ],
          "name": "stderr"
        },
        {
          "output_type": "stream",
          "text": [
            "Iter: 11/17, accuracy: 0.875\r"
          ],
          "name": "stdout"
        },
        {
          "output_type": "stream",
          "text": [
            "\r 76%|███████▋  | 13/17 [00:47<00:14,  3.71s/it]"
          ],
          "name": "stderr"
        },
        {
          "output_type": "stream",
          "text": [
            "Iter: 12/17, accuracy: 1.0\r"
          ],
          "name": "stdout"
        },
        {
          "output_type": "stream",
          "text": [
            "\r 82%|████████▏ | 14/17 [00:50<00:11,  3.67s/it]"
          ],
          "name": "stderr"
        },
        {
          "output_type": "stream",
          "text": [
            "Iter: 13/17, accuracy: 1.0\r"
          ],
          "name": "stdout"
        },
        {
          "output_type": "stream",
          "text": [
            "\r 88%|████████▊ | 15/17 [00:54<00:07,  3.73s/it]"
          ],
          "name": "stderr"
        },
        {
          "output_type": "stream",
          "text": [
            "Iter: 14/17, accuracy: 0.875\r"
          ],
          "name": "stdout"
        },
        {
          "output_type": "stream",
          "text": [
            "\r 94%|█████████▍| 16/17 [00:58<00:03,  3.69s/it]"
          ],
          "name": "stderr"
        },
        {
          "output_type": "stream",
          "text": [
            "Iter: 15/17, accuracy: 0.75\r"
          ],
          "name": "stdout"
        },
        {
          "output_type": "stream",
          "text": [
            "100%|██████████| 17/17 [01:02<00:00,  3.67s/it]\n",
            "  0%|          | 0/40 [00:00<?, ?it/s]"
          ],
          "name": "stderr"
        },
        {
          "output_type": "stream",
          "text": [
            "Iter: 16/17, accuracy: 0.5\rAverage test Accuracy: 0.75 \n",
            "\n",
            "              precision    recall  f1-score   support\n",
            "\n",
            "         0.0       0.90      0.65      0.75        80\n",
            "         1.0       0.64      0.89      0.75        56\n",
            "\n",
            "    accuracy                           0.75       136\n",
            "   macro avg       0.77      0.77      0.75       136\n",
            "weighted avg       0.79      0.75      0.75       136\n",
            "\n",
            "-> Model Saved\n",
            "----------  -------\n",
            "train_acc   0.61875\n",
            "test_acc    0.75\n",
            "best_acc    0.61875\n",
            "best_epoch  0\n",
            "----------  -------\n"
          ],
          "name": "stdout"
        },
        {
          "output_type": "stream",
          "text": [
            "EPOCH: 1 | ITERATION : 39/40 | LOSS: 0.4880999028682709: 100%|██████████| 40/40 [00:19<00:00,  2.02it/s, loss=0.488]\n",
            "  0%|          | 0/17 [00:00<?, ?it/s]"
          ],
          "name": "stderr"
        },
        {
          "output_type": "stream",
          "text": [
            "Avg. train loss: 0.5754363596439361\n",
            "              precision    recall  f1-score   support\n",
            "\n",
            "         0.0       0.98      0.78      0.87       167\n",
            "         1.0       0.81      0.99      0.89       153\n",
            "\n",
            "    accuracy                           0.88       320\n",
            "   macro avg       0.90      0.89      0.88       320\n",
            "weighted avg       0.90      0.88      0.88       320\n",
            "\n"
          ],
          "name": "stdout"
        },
        {
          "output_type": "stream",
          "text": [
            "\r  6%|▌         | 1/17 [00:00<00:03,  4.04it/s]"
          ],
          "name": "stderr"
        },
        {
          "output_type": "stream",
          "text": [
            "Iter: 0/17, accuracy: 1.0\r"
          ],
          "name": "stdout"
        },
        {
          "output_type": "stream",
          "text": [
            "\r 12%|█▏        | 2/17 [00:00<00:03,  3.99it/s]"
          ],
          "name": "stderr"
        },
        {
          "output_type": "stream",
          "text": [
            "Iter: 1/17, accuracy: 1.0\r"
          ],
          "name": "stdout"
        },
        {
          "output_type": "stream",
          "text": [
            "\r 18%|█▊        | 3/17 [00:00<00:03,  3.93it/s]"
          ],
          "name": "stderr"
        },
        {
          "output_type": "stream",
          "text": [
            "Iter: 2/17, accuracy: 0.875\r"
          ],
          "name": "stdout"
        },
        {
          "output_type": "stream",
          "text": [
            "\r 24%|██▎       | 4/17 [00:01<00:03,  3.94it/s]"
          ],
          "name": "stderr"
        },
        {
          "output_type": "stream",
          "text": [
            "Iter: 3/17, accuracy: 1.0\r"
          ],
          "name": "stdout"
        },
        {
          "output_type": "stream",
          "text": [
            "\r 29%|██▉       | 5/17 [00:01<00:03,  3.89it/s]"
          ],
          "name": "stderr"
        },
        {
          "output_type": "stream",
          "text": [
            "Iter: 4/17, accuracy: 1.0\r"
          ],
          "name": "stdout"
        },
        {
          "output_type": "stream",
          "text": [
            "\r 35%|███▌      | 6/17 [00:01<00:02,  3.86it/s]"
          ],
          "name": "stderr"
        },
        {
          "output_type": "stream",
          "text": [
            "Iter: 5/17, accuracy: 1.0\r"
          ],
          "name": "stdout"
        },
        {
          "output_type": "stream",
          "text": [
            "\r 41%|████      | 7/17 [00:01<00:02,  3.62it/s]"
          ],
          "name": "stderr"
        },
        {
          "output_type": "stream",
          "text": [
            "Iter: 6/17, accuracy: 0.75\r"
          ],
          "name": "stdout"
        },
        {
          "output_type": "stream",
          "text": [
            "\r 47%|████▋     | 8/17 [00:02<00:02,  3.76it/s]"
          ],
          "name": "stderr"
        },
        {
          "output_type": "stream",
          "text": [
            "Iter: 7/17, accuracy: 1.0\r"
          ],
          "name": "stdout"
        },
        {
          "output_type": "stream",
          "text": [
            "\r 53%|█████▎    | 9/17 [00:02<00:02,  3.79it/s]"
          ],
          "name": "stderr"
        },
        {
          "output_type": "stream",
          "text": [
            "Iter: 8/17, accuracy: 0.75\r"
          ],
          "name": "stdout"
        },
        {
          "output_type": "stream",
          "text": [
            "\r 59%|█████▉    | 10/17 [00:02<00:01,  3.79it/s]"
          ],
          "name": "stderr"
        },
        {
          "output_type": "stream",
          "text": [
            "Iter: 9/17, accuracy: 1.0\r"
          ],
          "name": "stdout"
        },
        {
          "output_type": "stream",
          "text": [
            "\r 65%|██████▍   | 11/17 [00:02<00:01,  3.85it/s]"
          ],
          "name": "stderr"
        },
        {
          "output_type": "stream",
          "text": [
            "Iter: 10/17, accuracy: 0.75\r"
          ],
          "name": "stdout"
        },
        {
          "output_type": "stream",
          "text": [
            "\r 71%|███████   | 12/17 [00:03<00:01,  3.79it/s]"
          ],
          "name": "stderr"
        },
        {
          "output_type": "stream",
          "text": [
            "Iter: 11/17, accuracy: 1.0\r"
          ],
          "name": "stdout"
        },
        {
          "output_type": "stream",
          "text": [
            "\r 76%|███████▋  | 13/17 [00:03<00:01,  3.74it/s]"
          ],
          "name": "stderr"
        },
        {
          "output_type": "stream",
          "text": [
            "Iter: 12/17, accuracy: 1.0\r"
          ],
          "name": "stdout"
        },
        {
          "output_type": "stream",
          "text": [
            "\r 82%|████████▏ | 14/17 [00:03<00:00,  3.85it/s]"
          ],
          "name": "stderr"
        },
        {
          "output_type": "stream",
          "text": [
            "Iter: 13/17, accuracy: 1.0\r"
          ],
          "name": "stdout"
        },
        {
          "output_type": "stream",
          "text": [
            "\r 88%|████████▊ | 15/17 [00:03<00:00,  3.83it/s]"
          ],
          "name": "stderr"
        },
        {
          "output_type": "stream",
          "text": [
            "Iter: 14/17, accuracy: 0.875\r"
          ],
          "name": "stdout"
        },
        {
          "output_type": "stream",
          "text": [
            "\r 94%|█████████▍| 16/17 [00:04<00:00,  3.46it/s]"
          ],
          "name": "stderr"
        },
        {
          "output_type": "stream",
          "text": [
            "Iter: 15/17, accuracy: 0.875\r"
          ],
          "name": "stdout"
        },
        {
          "output_type": "stream",
          "text": [
            "100%|██████████| 17/17 [00:04<00:00,  3.74it/s]\n",
            "  0%|          | 0/40 [00:00<?, ?it/s]"
          ],
          "name": "stderr"
        },
        {
          "output_type": "stream",
          "text": [
            "Iter: 16/17, accuracy: 1.0\rAverage test Accuracy: 0.9338235294117647 \n",
            "\n",
            "              precision    recall  f1-score   support\n",
            "\n",
            "         0.0       1.00      0.89      0.94        80\n",
            "         1.0       0.86      1.00      0.93        56\n",
            "\n",
            "    accuracy                           0.93       136\n",
            "   macro avg       0.93      0.94      0.93       136\n",
            "weighted avg       0.94      0.93      0.93       136\n",
            "\n",
            "-> Model Saved\n",
            "----------  --------\n",
            "train_acc   0.88125\n",
            "test_acc    0.933824\n",
            "best_acc    0.88125\n",
            "best_epoch  1\n",
            "----------  --------\n"
          ],
          "name": "stdout"
        },
        {
          "output_type": "stream",
          "text": [
            "EPOCH: 2 | ITERATION : 39/40 | LOSS: 0.07624733448028564: 100%|██████████| 40/40 [00:17<00:00,  2.25it/s, loss=0.0762]\n",
            "  0%|          | 0/17 [00:00<?, ?it/s]"
          ],
          "name": "stderr"
        },
        {
          "output_type": "stream",
          "text": [
            "Avg. train loss: 0.20118656726554035\n",
            "              precision    recall  f1-score   support\n",
            "\n",
            "         0.0       0.98      0.97      0.97       167\n",
            "         1.0       0.97      0.97      0.97       153\n",
            "\n",
            "    accuracy                           0.97       320\n",
            "   macro avg       0.97      0.97      0.97       320\n",
            "weighted avg       0.97      0.97      0.97       320\n",
            "\n"
          ],
          "name": "stdout"
        },
        {
          "output_type": "stream",
          "text": [
            "\r  6%|▌         | 1/17 [00:00<00:04,  3.94it/s]"
          ],
          "name": "stderr"
        },
        {
          "output_type": "stream",
          "text": [
            "Iter: 0/17, accuracy: 1.0\r"
          ],
          "name": "stdout"
        },
        {
          "output_type": "stream",
          "text": [
            "\r 12%|█▏        | 2/17 [00:00<00:03,  4.00it/s]"
          ],
          "name": "stderr"
        },
        {
          "output_type": "stream",
          "text": [
            "Iter: 1/17, accuracy: 1.0\r"
          ],
          "name": "stdout"
        },
        {
          "output_type": "stream",
          "text": [
            "\r 18%|█▊        | 3/17 [00:00<00:03,  3.91it/s]"
          ],
          "name": "stderr"
        },
        {
          "output_type": "stream",
          "text": [
            "Iter: 2/17, accuracy: 0.875\r"
          ],
          "name": "stdout"
        },
        {
          "output_type": "stream",
          "text": [
            "\r 24%|██▎       | 4/17 [00:01<00:03,  3.88it/s]"
          ],
          "name": "stderr"
        },
        {
          "output_type": "stream",
          "text": [
            "Iter: 3/17, accuracy: 0.75\r"
          ],
          "name": "stdout"
        },
        {
          "output_type": "stream",
          "text": [
            "\r 29%|██▉       | 5/17 [00:01<00:03,  3.87it/s]"
          ],
          "name": "stderr"
        },
        {
          "output_type": "stream",
          "text": [
            "Iter: 4/17, accuracy: 1.0\r"
          ],
          "name": "stdout"
        },
        {
          "output_type": "stream",
          "text": [
            "\r 35%|███▌      | 6/17 [00:01<00:02,  3.84it/s]"
          ],
          "name": "stderr"
        },
        {
          "output_type": "stream",
          "text": [
            "Iter: 5/17, accuracy: 1.0\r"
          ],
          "name": "stdout"
        },
        {
          "output_type": "stream",
          "text": [
            "\r 41%|████      | 7/17 [00:01<00:02,  3.57it/s]"
          ],
          "name": "stderr"
        },
        {
          "output_type": "stream",
          "text": [
            "Iter: 6/17, accuracy: 0.75\r"
          ],
          "name": "stdout"
        },
        {
          "output_type": "stream",
          "text": [
            "\r 47%|████▋     | 8/17 [00:02<00:02,  3.71it/s]"
          ],
          "name": "stderr"
        },
        {
          "output_type": "stream",
          "text": [
            "Iter: 7/17, accuracy: 1.0\r"
          ],
          "name": "stdout"
        },
        {
          "output_type": "stream",
          "text": [
            "\r 53%|█████▎    | 9/17 [00:02<00:02,  3.72it/s]"
          ],
          "name": "stderr"
        },
        {
          "output_type": "stream",
          "text": [
            "Iter: 8/17, accuracy: 0.75\r"
          ],
          "name": "stdout"
        },
        {
          "output_type": "stream",
          "text": [
            "\r 59%|█████▉    | 10/17 [00:02<00:01,  3.71it/s]"
          ],
          "name": "stderr"
        },
        {
          "output_type": "stream",
          "text": [
            "Iter: 9/17, accuracy: 1.0\r"
          ],
          "name": "stdout"
        },
        {
          "output_type": "stream",
          "text": [
            "\r 65%|██████▍   | 11/17 [00:02<00:01,  3.76it/s]"
          ],
          "name": "stderr"
        },
        {
          "output_type": "stream",
          "text": [
            "Iter: 10/17, accuracy: 0.75\r"
          ],
          "name": "stdout"
        },
        {
          "output_type": "stream",
          "text": [
            "\r 71%|███████   | 12/17 [00:03<00:01,  3.69it/s]"
          ],
          "name": "stderr"
        },
        {
          "output_type": "stream",
          "text": [
            "Iter: 11/17, accuracy: 1.0\r"
          ],
          "name": "stdout"
        },
        {
          "output_type": "stream",
          "text": [
            "\r 76%|███████▋  | 13/17 [00:03<00:01,  3.61it/s]"
          ],
          "name": "stderr"
        },
        {
          "output_type": "stream",
          "text": [
            "Iter: 12/17, accuracy: 1.0\r"
          ],
          "name": "stdout"
        },
        {
          "output_type": "stream",
          "text": [
            "\r 82%|████████▏ | 14/17 [00:03<00:00,  3.67it/s]"
          ],
          "name": "stderr"
        },
        {
          "output_type": "stream",
          "text": [
            "Iter: 13/17, accuracy: 1.0\r"
          ],
          "name": "stdout"
        },
        {
          "output_type": "stream",
          "text": [
            "\r 88%|████████▊ | 15/17 [00:04<00:00,  3.70it/s]"
          ],
          "name": "stderr"
        },
        {
          "output_type": "stream",
          "text": [
            "Iter: 14/17, accuracy: 0.875\r"
          ],
          "name": "stdout"
        },
        {
          "output_type": "stream",
          "text": [
            "\r 94%|█████████▍| 16/17 [00:04<00:00,  3.38it/s]"
          ],
          "name": "stderr"
        },
        {
          "output_type": "stream",
          "text": [
            "Iter: 15/17, accuracy: 1.0\r"
          ],
          "name": "stdout"
        },
        {
          "output_type": "stream",
          "text": [
            "100%|██████████| 17/17 [00:04<00:00,  3.65it/s]\n",
            "  0%|          | 0/40 [00:00<?, ?it/s]"
          ],
          "name": "stderr"
        },
        {
          "output_type": "stream",
          "text": [
            "Iter: 16/17, accuracy: 1.0\rAverage test Accuracy: 0.9264705882352942 \n",
            "\n",
            "              precision    recall  f1-score   support\n",
            "\n",
            "         0.0       1.00      0.88      0.93        80\n",
            "         1.0       0.85      1.00      0.92        56\n",
            "\n",
            "    accuracy                           0.93       136\n",
            "   macro avg       0.92      0.94      0.93       136\n",
            "weighted avg       0.94      0.93      0.93       136\n",
            "\n",
            "-> Model Saved\n",
            "----------  --------\n",
            "train_acc   0.971875\n",
            "test_acc    0.926471\n",
            "best_acc    0.971875\n",
            "best_epoch  2\n",
            "----------  --------\n"
          ],
          "name": "stdout"
        },
        {
          "output_type": "stream",
          "text": [
            "EPOCH: 3 | ITERATION : 39/40 | LOSS: 0.0285470150411129: 100%|██████████| 40/40 [00:17<00:00,  2.26it/s, loss=0.0285]\n",
            "  0%|          | 0/17 [00:00<?, ?it/s]"
          ],
          "name": "stderr"
        },
        {
          "output_type": "stream",
          "text": [
            "Avg. train loss: 0.04941511945798993\n",
            "              precision    recall  f1-score   support\n",
            "\n",
            "         0.0       1.00      0.99      1.00       166\n",
            "         1.0       0.99      1.00      1.00       154\n",
            "\n",
            "    accuracy                           1.00       320\n",
            "   macro avg       1.00      1.00      1.00       320\n",
            "weighted avg       1.00      1.00      1.00       320\n",
            "\n"
          ],
          "name": "stdout"
        },
        {
          "output_type": "stream",
          "text": [
            "\r  6%|▌         | 1/17 [00:00<00:04,  3.63it/s]"
          ],
          "name": "stderr"
        },
        {
          "output_type": "stream",
          "text": [
            "Iter: 0/17, accuracy: 1.0\r"
          ],
          "name": "stdout"
        },
        {
          "output_type": "stream",
          "text": [
            "\r 12%|█▏        | 2/17 [00:00<00:03,  3.76it/s]"
          ],
          "name": "stderr"
        },
        {
          "output_type": "stream",
          "text": [
            "Iter: 1/17, accuracy: 1.0\r"
          ],
          "name": "stdout"
        },
        {
          "output_type": "stream",
          "text": [
            "\r 18%|█▊        | 3/17 [00:00<00:03,  3.76it/s]"
          ],
          "name": "stderr"
        },
        {
          "output_type": "stream",
          "text": [
            "Iter: 2/17, accuracy: 1.0\r"
          ],
          "name": "stdout"
        },
        {
          "output_type": "stream",
          "text": [
            "\r 24%|██▎       | 4/17 [00:01<00:03,  3.78it/s]"
          ],
          "name": "stderr"
        },
        {
          "output_type": "stream",
          "text": [
            "Iter: 3/17, accuracy: 1.0\r"
          ],
          "name": "stdout"
        },
        {
          "output_type": "stream",
          "text": [
            "\r 29%|██▉       | 5/17 [00:01<00:03,  3.81it/s]"
          ],
          "name": "stderr"
        },
        {
          "output_type": "stream",
          "text": [
            "Iter: 4/17, accuracy: 1.0\r"
          ],
          "name": "stdout"
        },
        {
          "output_type": "stream",
          "text": [
            "\r 35%|███▌      | 6/17 [00:01<00:02,  3.84it/s]"
          ],
          "name": "stderr"
        },
        {
          "output_type": "stream",
          "text": [
            "Iter: 5/17, accuracy: 1.0\r"
          ],
          "name": "stdout"
        },
        {
          "output_type": "stream",
          "text": [
            "\r 41%|████      | 7/17 [00:01<00:02,  3.58it/s]"
          ],
          "name": "stderr"
        },
        {
          "output_type": "stream",
          "text": [
            "Iter: 6/17, accuracy: 1.0\r"
          ],
          "name": "stdout"
        },
        {
          "output_type": "stream",
          "text": [
            "\r 47%|████▋     | 8/17 [00:02<00:02,  3.73it/s]"
          ],
          "name": "stderr"
        },
        {
          "output_type": "stream",
          "text": [
            "Iter: 7/17, accuracy: 1.0\r"
          ],
          "name": "stdout"
        },
        {
          "output_type": "stream",
          "text": [
            "\r 53%|█████▎    | 9/17 [00:02<00:02,  3.84it/s]"
          ],
          "name": "stderr"
        },
        {
          "output_type": "stream",
          "text": [
            "Iter: 8/17, accuracy: 0.875\r"
          ],
          "name": "stdout"
        },
        {
          "output_type": "stream",
          "text": [
            "\r 59%|█████▉    | 10/17 [00:02<00:01,  3.82it/s]"
          ],
          "name": "stderr"
        },
        {
          "output_type": "stream",
          "text": [
            "Iter: 9/17, accuracy: 1.0\r"
          ],
          "name": "stdout"
        },
        {
          "output_type": "stream",
          "text": [
            "\r 65%|██████▍   | 11/17 [00:02<00:01,  3.83it/s]"
          ],
          "name": "stderr"
        },
        {
          "output_type": "stream",
          "text": [
            "Iter: 10/17, accuracy: 0.875\r"
          ],
          "name": "stdout"
        },
        {
          "output_type": "stream",
          "text": [
            "\r 71%|███████   | 12/17 [00:03<00:01,  3.87it/s]"
          ],
          "name": "stderr"
        },
        {
          "output_type": "stream",
          "text": [
            "Iter: 11/17, accuracy: 1.0\r"
          ],
          "name": "stdout"
        },
        {
          "output_type": "stream",
          "text": [
            "\r 76%|███████▋  | 13/17 [00:03<00:01,  3.75it/s]"
          ],
          "name": "stderr"
        },
        {
          "output_type": "stream",
          "text": [
            "Iter: 12/17, accuracy: 1.0\r"
          ],
          "name": "stdout"
        },
        {
          "output_type": "stream",
          "text": [
            "\r 82%|████████▏ | 14/17 [00:03<00:00,  3.78it/s]"
          ],
          "name": "stderr"
        },
        {
          "output_type": "stream",
          "text": [
            "Iter: 13/17, accuracy: 1.0\r"
          ],
          "name": "stdout"
        },
        {
          "output_type": "stream",
          "text": [
            "\r 88%|████████▊ | 15/17 [00:03<00:00,  3.82it/s]"
          ],
          "name": "stderr"
        },
        {
          "output_type": "stream",
          "text": [
            "Iter: 14/17, accuracy: 1.0\r"
          ],
          "name": "stdout"
        },
        {
          "output_type": "stream",
          "text": [
            "\r 94%|█████████▍| 16/17 [00:04<00:00,  3.46it/s]"
          ],
          "name": "stderr"
        },
        {
          "output_type": "stream",
          "text": [
            "Iter: 15/17, accuracy: 1.0\r"
          ],
          "name": "stdout"
        },
        {
          "output_type": "stream",
          "text": [
            "100%|██████████| 17/17 [00:04<00:00,  3.72it/s]\n",
            "  0%|          | 0/40 [00:00<?, ?it/s]"
          ],
          "name": "stderr"
        },
        {
          "output_type": "stream",
          "text": [
            "Iter: 16/17, accuracy: 1.0\rAverage test Accuracy: 0.9852941176470589 \n",
            "\n",
            "              precision    recall  f1-score   support\n",
            "\n",
            "         0.0       1.00      0.97      0.99        80\n",
            "         1.0       0.97      1.00      0.98        56\n",
            "\n",
            "    accuracy                           0.99       136\n",
            "   macro avg       0.98      0.99      0.98       136\n",
            "weighted avg       0.99      0.99      0.99       136\n",
            "\n",
            "-> Model Saved\n",
            "----------  --------\n",
            "train_acc   0.996875\n",
            "test_acc    0.985294\n",
            "best_acc    0.996875\n",
            "best_epoch  3\n",
            "----------  --------\n"
          ],
          "name": "stdout"
        },
        {
          "output_type": "stream",
          "text": [
            "EPOCH: 4 | ITERATION : 39/40 | LOSS: 0.017873933538794518: 100%|██████████| 40/40 [00:17<00:00,  2.26it/s, loss=0.0179]\n",
            "  0%|          | 0/17 [00:00<?, ?it/s]"
          ],
          "name": "stderr"
        },
        {
          "output_type": "stream",
          "text": [
            "Avg. train loss: 0.017213322641327976\n",
            "              precision    recall  f1-score   support\n",
            "\n",
            "         0.0       1.00      1.00      1.00       166\n",
            "         1.0       1.00      1.00      1.00       154\n",
            "\n",
            "    accuracy                           1.00       320\n",
            "   macro avg       1.00      1.00      1.00       320\n",
            "weighted avg       1.00      1.00      1.00       320\n",
            "\n"
          ],
          "name": "stdout"
        },
        {
          "output_type": "stream",
          "text": [
            "\r  6%|▌         | 1/17 [00:00<00:04,  3.76it/s]"
          ],
          "name": "stderr"
        },
        {
          "output_type": "stream",
          "text": [
            "Iter: 0/17, accuracy: 1.0\r"
          ],
          "name": "stdout"
        },
        {
          "output_type": "stream",
          "text": [
            "\r 12%|█▏        | 2/17 [00:00<00:03,  3.82it/s]"
          ],
          "name": "stderr"
        },
        {
          "output_type": "stream",
          "text": [
            "Iter: 1/17, accuracy: 1.0\r"
          ],
          "name": "stdout"
        },
        {
          "output_type": "stream",
          "text": [
            "\r 18%|█▊        | 3/17 [00:00<00:03,  3.84it/s]"
          ],
          "name": "stderr"
        },
        {
          "output_type": "stream",
          "text": [
            "Iter: 2/17, accuracy: 1.0\r"
          ],
          "name": "stdout"
        },
        {
          "output_type": "stream",
          "text": [
            "\r 24%|██▎       | 4/17 [00:01<00:03,  3.85it/s]"
          ],
          "name": "stderr"
        },
        {
          "output_type": "stream",
          "text": [
            "Iter: 3/17, accuracy: 1.0\r"
          ],
          "name": "stdout"
        },
        {
          "output_type": "stream",
          "text": [
            "\r 29%|██▉       | 5/17 [00:01<00:03,  3.78it/s]"
          ],
          "name": "stderr"
        },
        {
          "output_type": "stream",
          "text": [
            "Iter: 4/17, accuracy: 1.0\r"
          ],
          "name": "stdout"
        },
        {
          "output_type": "stream",
          "text": [
            "\r 35%|███▌      | 6/17 [00:01<00:02,  3.84it/s]"
          ],
          "name": "stderr"
        },
        {
          "output_type": "stream",
          "text": [
            "Iter: 5/17, accuracy: 1.0\r"
          ],
          "name": "stdout"
        },
        {
          "output_type": "stream",
          "text": [
            "\r 41%|████      | 7/17 [00:01<00:02,  3.61it/s]"
          ],
          "name": "stderr"
        },
        {
          "output_type": "stream",
          "text": [
            "Iter: 6/17, accuracy: 1.0\r"
          ],
          "name": "stdout"
        },
        {
          "output_type": "stream",
          "text": [
            "\r 47%|████▋     | 8/17 [00:02<00:02,  3.68it/s]"
          ],
          "name": "stderr"
        },
        {
          "output_type": "stream",
          "text": [
            "Iter: 7/17, accuracy: 1.0\r"
          ],
          "name": "stdout"
        },
        {
          "output_type": "stream",
          "text": [
            "\r 53%|█████▎    | 9/17 [00:02<00:02,  3.80it/s]"
          ],
          "name": "stderr"
        },
        {
          "output_type": "stream",
          "text": [
            "Iter: 8/17, accuracy: 0.875\r"
          ],
          "name": "stdout"
        },
        {
          "output_type": "stream",
          "text": [
            "\r 59%|█████▉    | 10/17 [00:02<00:01,  3.80it/s]"
          ],
          "name": "stderr"
        },
        {
          "output_type": "stream",
          "text": [
            "Iter: 9/17, accuracy: 1.0\r"
          ],
          "name": "stdout"
        },
        {
          "output_type": "stream",
          "text": [
            "\r 65%|██████▍   | 11/17 [00:02<00:01,  3.72it/s]"
          ],
          "name": "stderr"
        },
        {
          "output_type": "stream",
          "text": [
            "Iter: 10/17, accuracy: 0.875\r"
          ],
          "name": "stdout"
        },
        {
          "output_type": "stream",
          "text": [
            "\r 71%|███████   | 12/17 [00:03<00:01,  3.67it/s]"
          ],
          "name": "stderr"
        },
        {
          "output_type": "stream",
          "text": [
            "Iter: 11/17, accuracy: 1.0\r"
          ],
          "name": "stdout"
        },
        {
          "output_type": "stream",
          "text": [
            "\r 76%|███████▋  | 13/17 [00:03<00:01,  3.60it/s]"
          ],
          "name": "stderr"
        },
        {
          "output_type": "stream",
          "text": [
            "Iter: 12/17, accuracy: 1.0\r"
          ],
          "name": "stdout"
        },
        {
          "output_type": "stream",
          "text": [
            "\r 82%|████████▏ | 14/17 [00:03<00:00,  3.61it/s]"
          ],
          "name": "stderr"
        },
        {
          "output_type": "stream",
          "text": [
            "Iter: 13/17, accuracy: 1.0\r"
          ],
          "name": "stdout"
        },
        {
          "output_type": "stream",
          "text": [
            "\r 88%|████████▊ | 15/17 [00:04<00:00,  3.56it/s]"
          ],
          "name": "stderr"
        },
        {
          "output_type": "stream",
          "text": [
            "Iter: 14/17, accuracy: 1.0\r"
          ],
          "name": "stdout"
        },
        {
          "output_type": "stream",
          "text": [
            "\r 94%|█████████▍| 16/17 [00:04<00:00,  3.27it/s]"
          ],
          "name": "stderr"
        },
        {
          "output_type": "stream",
          "text": [
            "Iter: 15/17, accuracy: 1.0\r"
          ],
          "name": "stdout"
        },
        {
          "output_type": "stream",
          "text": [
            "100%|██████████| 17/17 [00:04<00:00,  3.60it/s]\n",
            "  0%|          | 0/40 [00:00<?, ?it/s]"
          ],
          "name": "stderr"
        },
        {
          "output_type": "stream",
          "text": [
            "Iter: 16/17, accuracy: 1.0\rAverage test Accuracy: 0.9852941176470589 \n",
            "\n",
            "              precision    recall  f1-score   support\n",
            "\n",
            "         0.0       1.00      0.97      0.99        80\n",
            "         1.0       0.97      1.00      0.98        56\n",
            "\n",
            "    accuracy                           0.99       136\n",
            "   macro avg       0.98      0.99      0.98       136\n",
            "weighted avg       0.99      0.99      0.99       136\n",
            "\n",
            "-> Model Saved\n",
            "----------  --------\n",
            "train_acc   1\n",
            "test_acc    0.985294\n",
            "best_acc    1\n",
            "best_epoch  4\n",
            "----------  --------\n"
          ],
          "name": "stdout"
        },
        {
          "output_type": "stream",
          "text": [
            "EPOCH: 5 | ITERATION : 39/40 | LOSS: 0.008562365546822548: 100%|██████████| 40/40 [00:17<00:00,  2.24it/s, loss=0.00856]\n",
            "  0%|          | 0/17 [00:00<?, ?it/s]"
          ],
          "name": "stderr"
        },
        {
          "output_type": "stream",
          "text": [
            "Avg. train loss: 0.010244033276103437\n",
            "              precision    recall  f1-score   support\n",
            "\n",
            "         0.0       1.00      1.00      1.00       166\n",
            "         1.0       1.00      1.00      1.00       154\n",
            "\n",
            "    accuracy                           1.00       320\n",
            "   macro avg       1.00      1.00      1.00       320\n",
            "weighted avg       1.00      1.00      1.00       320\n",
            "\n"
          ],
          "name": "stdout"
        },
        {
          "output_type": "stream",
          "text": [
            "\r  6%|▌         | 1/17 [00:00<00:04,  3.73it/s]"
          ],
          "name": "stderr"
        },
        {
          "output_type": "stream",
          "text": [
            "Iter: 0/17, accuracy: 1.0\r"
          ],
          "name": "stdout"
        },
        {
          "output_type": "stream",
          "text": [
            "\r 12%|█▏        | 2/17 [00:00<00:03,  3.83it/s]"
          ],
          "name": "stderr"
        },
        {
          "output_type": "stream",
          "text": [
            "Iter: 1/17, accuracy: 1.0\r"
          ],
          "name": "stdout"
        },
        {
          "output_type": "stream",
          "text": [
            "\r 18%|█▊        | 3/17 [00:00<00:03,  3.79it/s]"
          ],
          "name": "stderr"
        },
        {
          "output_type": "stream",
          "text": [
            "Iter: 2/17, accuracy: 1.0\r"
          ],
          "name": "stdout"
        },
        {
          "output_type": "stream",
          "text": [
            "\r 24%|██▎       | 4/17 [00:01<00:03,  3.81it/s]"
          ],
          "name": "stderr"
        },
        {
          "output_type": "stream",
          "text": [
            "Iter: 3/17, accuracy: 1.0\r"
          ],
          "name": "stdout"
        },
        {
          "output_type": "stream",
          "text": [
            "\r 29%|██▉       | 5/17 [00:01<00:03,  3.80it/s]"
          ],
          "name": "stderr"
        },
        {
          "output_type": "stream",
          "text": [
            "Iter: 4/17, accuracy: 1.0\r"
          ],
          "name": "stdout"
        },
        {
          "output_type": "stream",
          "text": [
            "\r 35%|███▌      | 6/17 [00:01<00:02,  3.83it/s]"
          ],
          "name": "stderr"
        },
        {
          "output_type": "stream",
          "text": [
            "Iter: 5/17, accuracy: 1.0\r"
          ],
          "name": "stdout"
        },
        {
          "output_type": "stream",
          "text": [
            "\r 41%|████      | 7/17 [00:01<00:02,  3.58it/s]"
          ],
          "name": "stderr"
        },
        {
          "output_type": "stream",
          "text": [
            "Iter: 6/17, accuracy: 1.0\r"
          ],
          "name": "stdout"
        },
        {
          "output_type": "stream",
          "text": [
            "\r 47%|████▋     | 8/17 [00:02<00:02,  3.73it/s]"
          ],
          "name": "stderr"
        },
        {
          "output_type": "stream",
          "text": [
            "Iter: 7/17, accuracy: 1.0\r"
          ],
          "name": "stdout"
        },
        {
          "output_type": "stream",
          "text": [
            "\r 53%|█████▎    | 9/17 [00:02<00:02,  3.80it/s]"
          ],
          "name": "stderr"
        },
        {
          "output_type": "stream",
          "text": [
            "Iter: 8/17, accuracy: 0.875\r"
          ],
          "name": "stdout"
        },
        {
          "output_type": "stream",
          "text": [
            "\r 59%|█████▉    | 10/17 [00:02<00:01,  3.81it/s]"
          ],
          "name": "stderr"
        },
        {
          "output_type": "stream",
          "text": [
            "Iter: 9/17, accuracy: 1.0\r"
          ],
          "name": "stdout"
        },
        {
          "output_type": "stream",
          "text": [
            "\r 65%|██████▍   | 11/17 [00:02<00:01,  3.83it/s]"
          ],
          "name": "stderr"
        },
        {
          "output_type": "stream",
          "text": [
            "Iter: 10/17, accuracy: 0.875\r"
          ],
          "name": "stdout"
        },
        {
          "output_type": "stream",
          "text": [
            "\r 71%|███████   | 12/17 [00:03<00:01,  3.84it/s]"
          ],
          "name": "stderr"
        },
        {
          "output_type": "stream",
          "text": [
            "Iter: 11/17, accuracy: 1.0\r"
          ],
          "name": "stdout"
        },
        {
          "output_type": "stream",
          "text": [
            "\r 76%|███████▋  | 13/17 [00:03<00:01,  3.74it/s]"
          ],
          "name": "stderr"
        },
        {
          "output_type": "stream",
          "text": [
            "Iter: 12/17, accuracy: 1.0\r"
          ],
          "name": "stdout"
        },
        {
          "output_type": "stream",
          "text": [
            "\r 82%|████████▏ | 14/17 [00:03<00:00,  3.78it/s]"
          ],
          "name": "stderr"
        },
        {
          "output_type": "stream",
          "text": [
            "Iter: 13/17, accuracy: 1.0\r"
          ],
          "name": "stdout"
        },
        {
          "output_type": "stream",
          "text": [
            "\r 88%|████████▊ | 15/17 [00:03<00:00,  3.82it/s]"
          ],
          "name": "stderr"
        },
        {
          "output_type": "stream",
          "text": [
            "Iter: 14/17, accuracy: 1.0\r"
          ],
          "name": "stdout"
        },
        {
          "output_type": "stream",
          "text": [
            "\r 94%|█████████▍| 16/17 [00:04<00:00,  3.46it/s]"
          ],
          "name": "stderr"
        },
        {
          "output_type": "stream",
          "text": [
            "Iter: 15/17, accuracy: 0.875\r"
          ],
          "name": "stdout"
        },
        {
          "output_type": "stream",
          "text": [
            "100%|██████████| 17/17 [00:04<00:00,  3.71it/s]\n",
            "  0%|          | 0/40 [00:00<?, ?it/s]"
          ],
          "name": "stderr"
        },
        {
          "output_type": "stream",
          "text": [
            "Iter: 16/17, accuracy: 1.0\rAverage test Accuracy: 0.9779411764705882 \n",
            "\n",
            "              precision    recall  f1-score   support\n",
            "\n",
            "         0.0       1.00      0.96      0.98        80\n",
            "         1.0       0.95      1.00      0.97        56\n",
            "\n",
            "    accuracy                           0.98       136\n",
            "   macro avg       0.97      0.98      0.98       136\n",
            "weighted avg       0.98      0.98      0.98       136\n",
            "\n",
            "----------  --------\n",
            "train_acc   1\n",
            "test_acc    0.977941\n",
            "best_acc    1\n",
            "best_epoch  5\n",
            "----------  --------\n"
          ],
          "name": "stdout"
        },
        {
          "output_type": "stream",
          "text": [
            "EPOCH: 6 | ITERATION : 39/40 | LOSS: 2.562188148498535: 100%|██████████| 40/40 [00:17<00:00,  2.23it/s, loss=2.56]\n",
            "  0%|          | 0/17 [00:00<?, ?it/s]"
          ],
          "name": "stderr"
        },
        {
          "output_type": "stream",
          "text": [
            "Avg. train loss: 0.27995278805028645\n",
            "              precision    recall  f1-score   support\n",
            "\n",
            "         0.0       0.99      0.88      0.93       166\n",
            "         1.0       0.88      0.99      0.94       154\n",
            "\n",
            "    accuracy                           0.93       320\n",
            "   macro avg       0.94      0.94      0.93       320\n",
            "weighted avg       0.94      0.93      0.93       320\n",
            "\n"
          ],
          "name": "stdout"
        },
        {
          "output_type": "stream",
          "text": [
            "\r  6%|▌         | 1/17 [00:00<00:04,  3.75it/s]"
          ],
          "name": "stderr"
        },
        {
          "output_type": "stream",
          "text": [
            "Iter: 0/17, accuracy: 0.5\r"
          ],
          "name": "stdout"
        },
        {
          "output_type": "stream",
          "text": [
            "\r 12%|█▏        | 2/17 [00:00<00:04,  3.75it/s]"
          ],
          "name": "stderr"
        },
        {
          "output_type": "stream",
          "text": [
            "Iter: 1/17, accuracy: 1.0\r"
          ],
          "name": "stdout"
        },
        {
          "output_type": "stream",
          "text": [
            "\r 18%|█▊        | 3/17 [00:00<00:03,  3.82it/s]"
          ],
          "name": "stderr"
        },
        {
          "output_type": "stream",
          "text": [
            "Iter: 2/17, accuracy: 0.5\r"
          ],
          "name": "stdout"
        },
        {
          "output_type": "stream",
          "text": [
            "\r 24%|██▎       | 4/17 [00:01<00:03,  3.85it/s]"
          ],
          "name": "stderr"
        },
        {
          "output_type": "stream",
          "text": [
            "Iter: 3/17, accuracy: 0.5\r"
          ],
          "name": "stdout"
        },
        {
          "output_type": "stream",
          "text": [
            "\r 29%|██▉       | 5/17 [00:01<00:03,  3.79it/s]"
          ],
          "name": "stderr"
        },
        {
          "output_type": "stream",
          "text": [
            "Iter: 4/17, accuracy: 0.875\r"
          ],
          "name": "stdout"
        },
        {
          "output_type": "stream",
          "text": [
            "\r 35%|███▌      | 6/17 [00:01<00:02,  3.81it/s]"
          ],
          "name": "stderr"
        },
        {
          "output_type": "stream",
          "text": [
            "Iter: 5/17, accuracy: 0.625\r"
          ],
          "name": "stdout"
        },
        {
          "output_type": "stream",
          "text": [
            "\r 41%|████      | 7/17 [00:01<00:02,  3.56it/s]"
          ],
          "name": "stderr"
        },
        {
          "output_type": "stream",
          "text": [
            "Iter: 6/17, accuracy: 0.5\r"
          ],
          "name": "stdout"
        },
        {
          "output_type": "stream",
          "text": [
            "\r 47%|████▋     | 8/17 [00:02<00:02,  3.66it/s]"
          ],
          "name": "stderr"
        },
        {
          "output_type": "stream",
          "text": [
            "Iter: 7/17, accuracy: 0.625\r"
          ],
          "name": "stdout"
        },
        {
          "output_type": "stream",
          "text": [
            "\r 53%|█████▎    | 9/17 [00:02<00:02,  3.76it/s]"
          ],
          "name": "stderr"
        },
        {
          "output_type": "stream",
          "text": [
            "Iter: 8/17, accuracy: 0.75\r"
          ],
          "name": "stdout"
        },
        {
          "output_type": "stream",
          "text": [
            "\r 59%|█████▉    | 10/17 [00:02<00:01,  3.78it/s]"
          ],
          "name": "stderr"
        },
        {
          "output_type": "stream",
          "text": [
            "Iter: 9/17, accuracy: 0.75\r"
          ],
          "name": "stdout"
        },
        {
          "output_type": "stream",
          "text": [
            "\r 65%|██████▍   | 11/17 [00:02<00:01,  3.69it/s]"
          ],
          "name": "stderr"
        },
        {
          "output_type": "stream",
          "text": [
            "Iter: 10/17, accuracy: 0.625\r"
          ],
          "name": "stdout"
        },
        {
          "output_type": "stream",
          "text": [
            "\r 71%|███████   | 12/17 [00:03<00:01,  3.66it/s]"
          ],
          "name": "stderr"
        },
        {
          "output_type": "stream",
          "text": [
            "Iter: 11/17, accuracy: 0.875\r"
          ],
          "name": "stdout"
        },
        {
          "output_type": "stream",
          "text": [
            "\r 76%|███████▋  | 13/17 [00:03<00:01,  3.57it/s]"
          ],
          "name": "stderr"
        },
        {
          "output_type": "stream",
          "text": [
            "Iter: 12/17, accuracy: 0.75\r"
          ],
          "name": "stdout"
        },
        {
          "output_type": "stream",
          "text": [
            "\r 82%|████████▏ | 14/17 [00:03<00:00,  3.58it/s]"
          ],
          "name": "stderr"
        },
        {
          "output_type": "stream",
          "text": [
            "Iter: 13/17, accuracy: 0.875\r"
          ],
          "name": "stdout"
        },
        {
          "output_type": "stream",
          "text": [
            "\r 88%|████████▊ | 15/17 [00:04<00:00,  3.56it/s]"
          ],
          "name": "stderr"
        },
        {
          "output_type": "stream",
          "text": [
            "Iter: 14/17, accuracy: 0.5\r"
          ],
          "name": "stdout"
        },
        {
          "output_type": "stream",
          "text": [
            "\r 94%|█████████▍| 16/17 [00:04<00:00,  3.24it/s]"
          ],
          "name": "stderr"
        },
        {
          "output_type": "stream",
          "text": [
            "Iter: 15/17, accuracy: 0.75\r"
          ],
          "name": "stdout"
        },
        {
          "output_type": "stream",
          "text": [
            "100%|██████████| 17/17 [00:04<00:00,  3.57it/s]\n",
            "  0%|          | 0/40 [00:00<?, ?it/s]"
          ],
          "name": "stderr"
        },
        {
          "output_type": "stream",
          "text": [
            "Iter: 16/17, accuracy: 0.875\rAverage test Accuracy: 0.6985294117647058 \n",
            "\n",
            "              precision    recall  f1-score   support\n",
            "\n",
            "         0.0       1.00      0.49      0.66        80\n",
            "         1.0       0.58      1.00      0.73        56\n",
            "\n",
            "    accuracy                           0.70       136\n",
            "   macro avg       0.79      0.74      0.69       136\n",
            "weighted avg       0.83      0.70      0.69       136\n",
            "\n",
            "----------  --------\n",
            "train_acc   0.934375\n",
            "test_acc    0.698529\n",
            "best_acc    1\n",
            "best_epoch  6\n",
            "----------  --------\n"
          ],
          "name": "stdout"
        },
        {
          "output_type": "stream",
          "text": [
            "EPOCH: 7 | ITERATION : 39/40 | LOSS: 0.07331334054470062: 100%|██████████| 40/40 [00:17<00:00,  2.23it/s, loss=0.0733]\n",
            "  0%|          | 0/17 [00:00<?, ?it/s]"
          ],
          "name": "stderr"
        },
        {
          "output_type": "stream",
          "text": [
            "Avg. train loss: 0.4146208592224866\n",
            "              precision    recall  f1-score   support\n",
            "\n",
            "         0.0       1.00      0.77      0.87       166\n",
            "         1.0       0.80      1.00      0.89       154\n",
            "\n",
            "    accuracy                           0.88       320\n",
            "   macro avg       0.90      0.89      0.88       320\n",
            "weighted avg       0.90      0.88      0.88       320\n",
            "\n"
          ],
          "name": "stdout"
        },
        {
          "output_type": "stream",
          "text": [
            "\r  6%|▌         | 1/17 [00:00<00:04,  3.57it/s]"
          ],
          "name": "stderr"
        },
        {
          "output_type": "stream",
          "text": [
            "Iter: 0/17, accuracy: 1.0\r"
          ],
          "name": "stdout"
        },
        {
          "output_type": "stream",
          "text": [
            "\r 12%|█▏        | 2/17 [00:00<00:04,  3.69it/s]"
          ],
          "name": "stderr"
        },
        {
          "output_type": "stream",
          "text": [
            "Iter: 1/17, accuracy: 1.0\r"
          ],
          "name": "stdout"
        },
        {
          "output_type": "stream",
          "text": [
            "\r 18%|█▊        | 3/17 [00:00<00:03,  3.76it/s]"
          ],
          "name": "stderr"
        },
        {
          "output_type": "stream",
          "text": [
            "Iter: 2/17, accuracy: 0.875\r"
          ],
          "name": "stdout"
        },
        {
          "output_type": "stream",
          "text": [
            "\r 24%|██▎       | 4/17 [00:01<00:03,  3.78it/s]"
          ],
          "name": "stderr"
        },
        {
          "output_type": "stream",
          "text": [
            "Iter: 3/17, accuracy: 0.875\r"
          ],
          "name": "stdout"
        },
        {
          "output_type": "stream",
          "text": [
            "\r 29%|██▉       | 5/17 [00:01<00:03,  3.72it/s]"
          ],
          "name": "stderr"
        },
        {
          "output_type": "stream",
          "text": [
            "Iter: 4/17, accuracy: 1.0\r"
          ],
          "name": "stdout"
        },
        {
          "output_type": "stream",
          "text": [
            "\r 35%|███▌      | 6/17 [00:01<00:02,  3.77it/s]"
          ],
          "name": "stderr"
        },
        {
          "output_type": "stream",
          "text": [
            "Iter: 5/17, accuracy: 0.875\r"
          ],
          "name": "stdout"
        },
        {
          "output_type": "stream",
          "text": [
            "\r 41%|████      | 7/17 [00:01<00:02,  3.52it/s]"
          ],
          "name": "stderr"
        },
        {
          "output_type": "stream",
          "text": [
            "Iter: 6/17, accuracy: 0.75\r"
          ],
          "name": "stdout"
        },
        {
          "output_type": "stream",
          "text": [
            "\r 47%|████▋     | 8/17 [00:02<00:02,  3.61it/s]"
          ],
          "name": "stderr"
        },
        {
          "output_type": "stream",
          "text": [
            "Iter: 7/17, accuracy: 0.75\r"
          ],
          "name": "stdout"
        },
        {
          "output_type": "stream",
          "text": [
            "\r 53%|█████▎    | 9/17 [00:02<00:02,  3.73it/s]"
          ],
          "name": "stderr"
        },
        {
          "output_type": "stream",
          "text": [
            "Iter: 8/17, accuracy: 0.75\r"
          ],
          "name": "stdout"
        },
        {
          "output_type": "stream",
          "text": [
            "\r 59%|█████▉    | 10/17 [00:02<00:01,  3.74it/s]"
          ],
          "name": "stderr"
        },
        {
          "output_type": "stream",
          "text": [
            "Iter: 9/17, accuracy: 1.0\r"
          ],
          "name": "stdout"
        },
        {
          "output_type": "stream",
          "text": [
            "\r 65%|██████▍   | 11/17 [00:02<00:01,  3.78it/s]"
          ],
          "name": "stderr"
        },
        {
          "output_type": "stream",
          "text": [
            "Iter: 10/17, accuracy: 0.875\r"
          ],
          "name": "stdout"
        },
        {
          "output_type": "stream",
          "text": [
            "\r 71%|███████   | 12/17 [00:03<00:01,  3.77it/s]"
          ],
          "name": "stderr"
        },
        {
          "output_type": "stream",
          "text": [
            "Iter: 11/17, accuracy: 1.0\r"
          ],
          "name": "stdout"
        },
        {
          "output_type": "stream",
          "text": [
            "\r 76%|███████▋  | 13/17 [00:03<00:01,  3.73it/s]"
          ],
          "name": "stderr"
        },
        {
          "output_type": "stream",
          "text": [
            "Iter: 12/17, accuracy: 1.0\r"
          ],
          "name": "stdout"
        },
        {
          "output_type": "stream",
          "text": [
            "\r 82%|████████▏ | 14/17 [00:03<00:00,  3.76it/s]"
          ],
          "name": "stderr"
        },
        {
          "output_type": "stream",
          "text": [
            "Iter: 13/17, accuracy: 1.0\r"
          ],
          "name": "stdout"
        },
        {
          "output_type": "stream",
          "text": [
            "\r 88%|████████▊ | 15/17 [00:04<00:00,  3.72it/s]"
          ],
          "name": "stderr"
        },
        {
          "output_type": "stream",
          "text": [
            "Iter: 14/17, accuracy: 0.875\r"
          ],
          "name": "stdout"
        },
        {
          "output_type": "stream",
          "text": [
            "\r 94%|█████████▍| 16/17 [00:04<00:00,  3.40it/s]"
          ],
          "name": "stderr"
        },
        {
          "output_type": "stream",
          "text": [
            "Iter: 15/17, accuracy: 1.0\r"
          ],
          "name": "stdout"
        },
        {
          "output_type": "stream",
          "text": [
            "100%|██████████| 17/17 [00:04<00:00,  3.66it/s]\n",
            "  0%|          | 0/40 [00:00<?, ?it/s]"
          ],
          "name": "stderr"
        },
        {
          "output_type": "stream",
          "text": [
            "Iter: 16/17, accuracy: 1.0\rAverage test Accuracy: 0.9191176470588235 \n",
            "\n",
            "              precision    recall  f1-score   support\n",
            "\n",
            "         0.0       1.00      0.86      0.93        80\n",
            "         1.0       0.84      1.00      0.91        56\n",
            "\n",
            "    accuracy                           0.92       136\n",
            "   macro avg       0.92      0.93      0.92       136\n",
            "weighted avg       0.93      0.92      0.92       136\n",
            "\n",
            "----------  --------\n",
            "train_acc   0.88125\n",
            "test_acc    0.919118\n",
            "best_acc    1\n",
            "best_epoch  7\n",
            "----------  --------\n"
          ],
          "name": "stdout"
        },
        {
          "output_type": "stream",
          "text": [
            "EPOCH: 8 | ITERATION : 39/40 | LOSS: 0.07413138449192047: 100%|██████████| 40/40 [00:17<00:00,  2.26it/s, loss=0.0741]\n",
            "  0%|          | 0/17 [00:00<?, ?it/s]"
          ],
          "name": "stderr"
        },
        {
          "output_type": "stream",
          "text": [
            "Avg. train loss: 0.1265366063453257\n",
            "              precision    recall  f1-score   support\n",
            "\n",
            "         0.0       1.00      0.94      0.97       167\n",
            "         1.0       0.94      1.00      0.97       153\n",
            "\n",
            "    accuracy                           0.97       320\n",
            "   macro avg       0.97      0.97      0.97       320\n",
            "weighted avg       0.97      0.97      0.97       320\n",
            "\n"
          ],
          "name": "stdout"
        },
        {
          "output_type": "stream",
          "text": [
            "\r  6%|▌         | 1/17 [00:00<00:04,  3.90it/s]"
          ],
          "name": "stderr"
        },
        {
          "output_type": "stream",
          "text": [
            "Iter: 0/17, accuracy: 1.0\r"
          ],
          "name": "stdout"
        },
        {
          "output_type": "stream",
          "text": [
            "\r 12%|█▏        | 2/17 [00:00<00:03,  3.85it/s]"
          ],
          "name": "stderr"
        },
        {
          "output_type": "stream",
          "text": [
            "Iter: 1/17, accuracy: 1.0\r"
          ],
          "name": "stdout"
        },
        {
          "output_type": "stream",
          "text": [
            "\r 18%|█▊        | 3/17 [00:00<00:03,  3.79it/s]"
          ],
          "name": "stderr"
        },
        {
          "output_type": "stream",
          "text": [
            "Iter: 2/17, accuracy: 1.0\r"
          ],
          "name": "stdout"
        },
        {
          "output_type": "stream",
          "text": [
            "\r 24%|██▎       | 4/17 [00:01<00:03,  3.87it/s]"
          ],
          "name": "stderr"
        },
        {
          "output_type": "stream",
          "text": [
            "Iter: 3/17, accuracy: 0.875\r"
          ],
          "name": "stdout"
        },
        {
          "output_type": "stream",
          "text": [
            "\r 29%|██▉       | 5/17 [00:01<00:03,  3.80it/s]"
          ],
          "name": "stderr"
        },
        {
          "output_type": "stream",
          "text": [
            "Iter: 4/17, accuracy: 1.0\r"
          ],
          "name": "stdout"
        },
        {
          "output_type": "stream",
          "text": [
            "\r 35%|███▌      | 6/17 [00:01<00:02,  3.78it/s]"
          ],
          "name": "stderr"
        },
        {
          "output_type": "stream",
          "text": [
            "Iter: 5/17, accuracy: 1.0\r"
          ],
          "name": "stdout"
        },
        {
          "output_type": "stream",
          "text": [
            "\r 41%|████      | 7/17 [00:01<00:02,  3.57it/s]"
          ],
          "name": "stderr"
        },
        {
          "output_type": "stream",
          "text": [
            "Iter: 6/17, accuracy: 0.875\r"
          ],
          "name": "stdout"
        },
        {
          "output_type": "stream",
          "text": [
            "\r 47%|████▋     | 8/17 [00:02<00:02,  3.66it/s]"
          ],
          "name": "stderr"
        },
        {
          "output_type": "stream",
          "text": [
            "Iter: 7/17, accuracy: 0.875\r"
          ],
          "name": "stdout"
        },
        {
          "output_type": "stream",
          "text": [
            "\r 53%|█████▎    | 9/17 [00:02<00:02,  3.68it/s]"
          ],
          "name": "stderr"
        },
        {
          "output_type": "stream",
          "text": [
            "Iter: 8/17, accuracy: 0.875\r"
          ],
          "name": "stdout"
        },
        {
          "output_type": "stream",
          "text": [
            "\r 59%|█████▉    | 10/17 [00:02<00:01,  3.73it/s]"
          ],
          "name": "stderr"
        },
        {
          "output_type": "stream",
          "text": [
            "Iter: 9/17, accuracy: 1.0\r"
          ],
          "name": "stdout"
        },
        {
          "output_type": "stream",
          "text": [
            "\r 65%|██████▍   | 11/17 [00:02<00:01,  3.70it/s]"
          ],
          "name": "stderr"
        },
        {
          "output_type": "stream",
          "text": [
            "Iter: 10/17, accuracy: 0.875\r"
          ],
          "name": "stdout"
        },
        {
          "output_type": "stream",
          "text": [
            "\r 71%|███████   | 12/17 [00:03<00:01,  3.60it/s]"
          ],
          "name": "stderr"
        },
        {
          "output_type": "stream",
          "text": [
            "Iter: 11/17, accuracy: 1.0\r"
          ],
          "name": "stdout"
        },
        {
          "output_type": "stream",
          "text": [
            "\r 76%|███████▋  | 13/17 [00:03<00:01,  3.55it/s]"
          ],
          "name": "stderr"
        },
        {
          "output_type": "stream",
          "text": [
            "Iter: 12/17, accuracy: 1.0\r"
          ],
          "name": "stdout"
        },
        {
          "output_type": "stream",
          "text": [
            "\r 82%|████████▏ | 14/17 [00:03<00:00,  3.57it/s]"
          ],
          "name": "stderr"
        },
        {
          "output_type": "stream",
          "text": [
            "Iter: 13/17, accuracy: 1.0\r"
          ],
          "name": "stdout"
        },
        {
          "output_type": "stream",
          "text": [
            "\r 88%|████████▊ | 15/17 [00:04<00:00,  3.53it/s]"
          ],
          "name": "stderr"
        },
        {
          "output_type": "stream",
          "text": [
            "Iter: 14/17, accuracy: 0.875\r"
          ],
          "name": "stdout"
        },
        {
          "output_type": "stream",
          "text": [
            "\r 94%|█████████▍| 16/17 [00:04<00:00,  3.27it/s]"
          ],
          "name": "stderr"
        },
        {
          "output_type": "stream",
          "text": [
            "Iter: 15/17, accuracy: 1.0\r"
          ],
          "name": "stdout"
        },
        {
          "output_type": "stream",
          "text": [
            "100%|██████████| 17/17 [00:04<00:00,  3.56it/s]\n",
            "  0%|          | 0/40 [00:00<?, ?it/s]"
          ],
          "name": "stderr"
        },
        {
          "output_type": "stream",
          "text": [
            "Iter: 16/17, accuracy: 1.0\rAverage test Accuracy: 0.9558823529411765 \n",
            "\n",
            "              precision    recall  f1-score   support\n",
            "\n",
            "         0.0       1.00      0.93      0.96        80\n",
            "         1.0       0.90      1.00      0.95        56\n",
            "\n",
            "    accuracy                           0.96       136\n",
            "   macro avg       0.95      0.96      0.96       136\n",
            "weighted avg       0.96      0.96      0.96       136\n",
            "\n",
            "----------  --------\n",
            "train_acc   0.96875\n",
            "test_acc    0.955882\n",
            "best_acc    1\n",
            "best_epoch  8\n",
            "----------  --------\n"
          ],
          "name": "stdout"
        },
        {
          "output_type": "stream",
          "text": [
            "EPOCH: 9 | ITERATION : 39/40 | LOSS: 0.0662095695734024: 100%|██████████| 40/40 [00:17<00:00,  2.23it/s, loss=0.0662]\n",
            "  0%|          | 0/17 [00:00<?, ?it/s]"
          ],
          "name": "stderr"
        },
        {
          "output_type": "stream",
          "text": [
            "Avg. train loss: 0.08566474262624979\n",
            "              precision    recall  f1-score   support\n",
            "\n",
            "         0.0       1.00      0.96      0.98       166\n",
            "         1.0       0.96      1.00      0.98       154\n",
            "\n",
            "    accuracy                           0.98       320\n",
            "   macro avg       0.98      0.98      0.98       320\n",
            "weighted avg       0.98      0.98      0.98       320\n",
            "\n"
          ],
          "name": "stdout"
        },
        {
          "output_type": "stream",
          "text": [
            "\r  6%|▌         | 1/17 [00:00<00:04,  3.70it/s]"
          ],
          "name": "stderr"
        },
        {
          "output_type": "stream",
          "text": [
            "Iter: 0/17, accuracy: 1.0\r"
          ],
          "name": "stdout"
        },
        {
          "output_type": "stream",
          "text": [
            "\r 12%|█▏        | 2/17 [00:00<00:03,  3.79it/s]"
          ],
          "name": "stderr"
        },
        {
          "output_type": "stream",
          "text": [
            "Iter: 1/17, accuracy: 1.0\r"
          ],
          "name": "stdout"
        },
        {
          "output_type": "stream",
          "text": [
            "\r 18%|█▊        | 3/17 [00:00<00:03,  3.76it/s]"
          ],
          "name": "stderr"
        },
        {
          "output_type": "stream",
          "text": [
            "Iter: 2/17, accuracy: 1.0\r"
          ],
          "name": "stdout"
        },
        {
          "output_type": "stream",
          "text": [
            "\r 24%|██▎       | 4/17 [00:01<00:03,  3.76it/s]"
          ],
          "name": "stderr"
        },
        {
          "output_type": "stream",
          "text": [
            "Iter: 3/17, accuracy: 0.875\r"
          ],
          "name": "stdout"
        },
        {
          "output_type": "stream",
          "text": [
            "\r 29%|██▉       | 5/17 [00:01<00:03,  3.76it/s]"
          ],
          "name": "stderr"
        },
        {
          "output_type": "stream",
          "text": [
            "Iter: 4/17, accuracy: 1.0\r"
          ],
          "name": "stdout"
        },
        {
          "output_type": "stream",
          "text": [
            "\r 35%|███▌      | 6/17 [00:01<00:02,  3.75it/s]"
          ],
          "name": "stderr"
        },
        {
          "output_type": "stream",
          "text": [
            "Iter: 5/17, accuracy: 1.0\r"
          ],
          "name": "stdout"
        },
        {
          "output_type": "stream",
          "text": [
            "\r 41%|████      | 7/17 [00:01<00:02,  3.50it/s]"
          ],
          "name": "stderr"
        },
        {
          "output_type": "stream",
          "text": [
            "Iter: 6/17, accuracy: 1.0\r"
          ],
          "name": "stdout"
        },
        {
          "output_type": "stream",
          "text": [
            "\r 47%|████▋     | 8/17 [00:02<00:02,  3.64it/s]"
          ],
          "name": "stderr"
        },
        {
          "output_type": "stream",
          "text": [
            "Iter: 7/17, accuracy: 1.0\r"
          ],
          "name": "stdout"
        },
        {
          "output_type": "stream",
          "text": [
            "\r 53%|█████▎    | 9/17 [00:02<00:02,  3.70it/s]"
          ],
          "name": "stderr"
        },
        {
          "output_type": "stream",
          "text": [
            "Iter: 8/17, accuracy: 0.875\r"
          ],
          "name": "stdout"
        },
        {
          "output_type": "stream",
          "text": [
            "\r 59%|█████▉    | 10/17 [00:02<00:01,  3.73it/s]"
          ],
          "name": "stderr"
        },
        {
          "output_type": "stream",
          "text": [
            "Iter: 9/17, accuracy: 1.0\r"
          ],
          "name": "stdout"
        },
        {
          "output_type": "stream",
          "text": [
            "\r 65%|██████▍   | 11/17 [00:02<00:01,  3.77it/s]"
          ],
          "name": "stderr"
        },
        {
          "output_type": "stream",
          "text": [
            "Iter: 10/17, accuracy: 0.875\r"
          ],
          "name": "stdout"
        },
        {
          "output_type": "stream",
          "text": [
            "\r 71%|███████   | 12/17 [00:03<00:01,  3.76it/s]"
          ],
          "name": "stderr"
        },
        {
          "output_type": "stream",
          "text": [
            "Iter: 11/17, accuracy: 1.0\r"
          ],
          "name": "stdout"
        },
        {
          "output_type": "stream",
          "text": [
            "\r 76%|███████▋  | 13/17 [00:03<00:01,  3.70it/s]"
          ],
          "name": "stderr"
        },
        {
          "output_type": "stream",
          "text": [
            "Iter: 12/17, accuracy: 1.0\r"
          ],
          "name": "stdout"
        },
        {
          "output_type": "stream",
          "text": [
            "\r 82%|████████▏ | 14/17 [00:03<00:00,  3.72it/s]"
          ],
          "name": "stderr"
        },
        {
          "output_type": "stream",
          "text": [
            "Iter: 13/17, accuracy: 1.0\r"
          ],
          "name": "stdout"
        },
        {
          "output_type": "stream",
          "text": [
            "\r 88%|████████▊ | 15/17 [00:04<00:00,  3.70it/s]"
          ],
          "name": "stderr"
        },
        {
          "output_type": "stream",
          "text": [
            "Iter: 14/17, accuracy: 1.0\r"
          ],
          "name": "stdout"
        },
        {
          "output_type": "stream",
          "text": [
            "\r 94%|█████████▍| 16/17 [00:04<00:00,  3.37it/s]"
          ],
          "name": "stderr"
        },
        {
          "output_type": "stream",
          "text": [
            "Iter: 15/17, accuracy: 1.0\r"
          ],
          "name": "stdout"
        },
        {
          "output_type": "stream",
          "text": [
            "100%|██████████| 17/17 [00:04<00:00,  3.64it/s]\n",
            "  0%|          | 0/40 [00:00<?, ?it/s]"
          ],
          "name": "stderr"
        },
        {
          "output_type": "stream",
          "text": [
            "Iter: 16/17, accuracy: 1.0\rAverage test Accuracy: 0.9779411764705882 \n",
            "\n",
            "              precision    recall  f1-score   support\n",
            "\n",
            "         0.0       1.00      0.96      0.98        80\n",
            "         1.0       0.95      1.00      0.97        56\n",
            "\n",
            "    accuracy                           0.98       136\n",
            "   macro avg       0.97      0.98      0.98       136\n",
            "weighted avg       0.98      0.98      0.98       136\n",
            "\n",
            "----------  --------\n",
            "train_acc   0.98125\n",
            "test_acc    0.977941\n",
            "best_acc    1\n",
            "best_epoch  9\n",
            "----------  --------\n"
          ],
          "name": "stdout"
        },
        {
          "output_type": "stream",
          "text": [
            "EPOCH: 10 | ITERATION : 39/40 | LOSS: 0.030171312391757965: 100%|██████████| 40/40 [00:17<00:00,  2.23it/s, loss=0.0302]\n",
            "  0%|          | 0/17 [00:00<?, ?it/s]"
          ],
          "name": "stderr"
        },
        {
          "output_type": "stream",
          "text": [
            "Avg. train loss: 0.053075896203517915\n",
            "              precision    recall  f1-score   support\n",
            "\n",
            "         0.0       1.00      0.99      1.00       165\n",
            "         1.0       0.99      1.00      1.00       155\n",
            "\n",
            "    accuracy                           1.00       320\n",
            "   macro avg       1.00      1.00      1.00       320\n",
            "weighted avg       1.00      1.00      1.00       320\n",
            "\n"
          ],
          "name": "stdout"
        },
        {
          "output_type": "stream",
          "text": [
            "\r  6%|▌         | 1/17 [00:00<00:04,  3.87it/s]"
          ],
          "name": "stderr"
        },
        {
          "output_type": "stream",
          "text": [
            "Iter: 0/17, accuracy: 1.0\r"
          ],
          "name": "stdout"
        },
        {
          "output_type": "stream",
          "text": [
            "\r 12%|█▏        | 2/17 [00:00<00:03,  3.82it/s]"
          ],
          "name": "stderr"
        },
        {
          "output_type": "stream",
          "text": [
            "Iter: 1/17, accuracy: 1.0\r"
          ],
          "name": "stdout"
        },
        {
          "output_type": "stream",
          "text": [
            "\r 18%|█▊        | 3/17 [00:00<00:03,  3.80it/s]"
          ],
          "name": "stderr"
        },
        {
          "output_type": "stream",
          "text": [
            "Iter: 2/17, accuracy: 1.0\r"
          ],
          "name": "stdout"
        },
        {
          "output_type": "stream",
          "text": [
            "\r 24%|██▎       | 4/17 [00:01<00:03,  3.92it/s]"
          ],
          "name": "stderr"
        },
        {
          "output_type": "stream",
          "text": [
            "Iter: 3/17, accuracy: 0.875\r"
          ],
          "name": "stdout"
        },
        {
          "output_type": "stream",
          "text": [
            "\r 29%|██▉       | 5/17 [00:01<00:03,  3.83it/s]"
          ],
          "name": "stderr"
        },
        {
          "output_type": "stream",
          "text": [
            "Iter: 4/17, accuracy: 1.0\r"
          ],
          "name": "stdout"
        },
        {
          "output_type": "stream",
          "text": [
            "\r 35%|███▌      | 6/17 [00:01<00:02,  3.79it/s]"
          ],
          "name": "stderr"
        },
        {
          "output_type": "stream",
          "text": [
            "Iter: 5/17, accuracy: 1.0\r"
          ],
          "name": "stdout"
        },
        {
          "output_type": "stream",
          "text": [
            "\r 41%|████      | 7/17 [00:01<00:02,  3.58it/s]"
          ],
          "name": "stderr"
        },
        {
          "output_type": "stream",
          "text": [
            "Iter: 6/17, accuracy: 1.0\r"
          ],
          "name": "stdout"
        },
        {
          "output_type": "stream",
          "text": [
            "\r 47%|████▋     | 8/17 [00:02<00:02,  3.64it/s]"
          ],
          "name": "stderr"
        },
        {
          "output_type": "stream",
          "text": [
            "Iter: 7/17, accuracy: 1.0\r"
          ],
          "name": "stdout"
        },
        {
          "output_type": "stream",
          "text": [
            "\r 53%|█████▎    | 9/17 [00:02<00:02,  3.63it/s]"
          ],
          "name": "stderr"
        },
        {
          "output_type": "stream",
          "text": [
            "Iter: 8/17, accuracy: 0.875\r"
          ],
          "name": "stdout"
        },
        {
          "output_type": "stream",
          "text": [
            "\r 59%|█████▉    | 10/17 [00:02<00:01,  3.71it/s]"
          ],
          "name": "stderr"
        },
        {
          "output_type": "stream",
          "text": [
            "Iter: 9/17, accuracy: 1.0\r"
          ],
          "name": "stdout"
        },
        {
          "output_type": "stream",
          "text": [
            "\r 65%|██████▍   | 11/17 [00:02<00:01,  3.69it/s]"
          ],
          "name": "stderr"
        },
        {
          "output_type": "stream",
          "text": [
            "Iter: 10/17, accuracy: 0.875\r"
          ],
          "name": "stdout"
        },
        {
          "output_type": "stream",
          "text": [
            "\r 71%|███████   | 12/17 [00:03<00:01,  3.61it/s]"
          ],
          "name": "stderr"
        },
        {
          "output_type": "stream",
          "text": [
            "Iter: 11/17, accuracy: 1.0\r"
          ],
          "name": "stdout"
        },
        {
          "output_type": "stream",
          "text": [
            "\r 76%|███████▋  | 13/17 [00:03<00:01,  3.54it/s]"
          ],
          "name": "stderr"
        },
        {
          "output_type": "stream",
          "text": [
            "Iter: 12/17, accuracy: 1.0\r"
          ],
          "name": "stdout"
        },
        {
          "output_type": "stream",
          "text": [
            "\r 82%|████████▏ | 14/17 [00:03<00:00,  3.57it/s]"
          ],
          "name": "stderr"
        },
        {
          "output_type": "stream",
          "text": [
            "Iter: 13/17, accuracy: 1.0\r"
          ],
          "name": "stdout"
        },
        {
          "output_type": "stream",
          "text": [
            "\r 88%|████████▊ | 15/17 [00:04<00:00,  3.51it/s]"
          ],
          "name": "stderr"
        },
        {
          "output_type": "stream",
          "text": [
            "Iter: 14/17, accuracy: 1.0\r"
          ],
          "name": "stdout"
        },
        {
          "output_type": "stream",
          "text": [
            "\r 94%|█████████▍| 16/17 [00:04<00:00,  3.22it/s]"
          ],
          "name": "stderr"
        },
        {
          "output_type": "stream",
          "text": [
            "Iter: 15/17, accuracy: 1.0\r"
          ],
          "name": "stdout"
        },
        {
          "output_type": "stream",
          "text": [
            "100%|██████████| 17/17 [00:04<00:00,  3.55it/s]\n",
            "  0%|          | 0/40 [00:00<?, ?it/s]"
          ],
          "name": "stderr"
        },
        {
          "output_type": "stream",
          "text": [
            "Iter: 16/17, accuracy: 1.0\rAverage test Accuracy: 0.9779411764705882 \n",
            "\n",
            "              precision    recall  f1-score   support\n",
            "\n",
            "         0.0       1.00      0.96      0.98        80\n",
            "         1.0       0.95      1.00      0.97        56\n",
            "\n",
            "    accuracy                           0.98       136\n",
            "   macro avg       0.97      0.98      0.98       136\n",
            "weighted avg       0.98      0.98      0.98       136\n",
            "\n",
            "----------  ---------\n",
            "train_acc    0.996875\n",
            "test_acc     0.977941\n",
            "best_acc     1\n",
            "best_epoch  10\n",
            "----------  ---------\n"
          ],
          "name": "stdout"
        },
        {
          "output_type": "stream",
          "text": [
            "EPOCH: 11 | ITERATION : 39/40 | LOSS: 0.030424822121858597: 100%|██████████| 40/40 [00:18<00:00,  2.22it/s, loss=0.0304]\n",
            "  0%|          | 0/17 [00:00<?, ?it/s]"
          ],
          "name": "stderr"
        },
        {
          "output_type": "stream",
          "text": [
            "Avg. train loss: 0.042430161591619255\n",
            "              precision    recall  f1-score   support\n",
            "\n",
            "         0.0       1.00      0.99      1.00       166\n",
            "         1.0       0.99      1.00      1.00       154\n",
            "\n",
            "    accuracy                           1.00       320\n",
            "   macro avg       1.00      1.00      1.00       320\n",
            "weighted avg       1.00      1.00      1.00       320\n",
            "\n"
          ],
          "name": "stdout"
        },
        {
          "output_type": "stream",
          "text": [
            "\r  6%|▌         | 1/17 [00:00<00:04,  3.90it/s]"
          ],
          "name": "stderr"
        },
        {
          "output_type": "stream",
          "text": [
            "Iter: 0/17, accuracy: 1.0\r"
          ],
          "name": "stdout"
        },
        {
          "output_type": "stream",
          "text": [
            "\r 12%|█▏        | 2/17 [00:00<00:03,  3.95it/s]"
          ],
          "name": "stderr"
        },
        {
          "output_type": "stream",
          "text": [
            "Iter: 1/17, accuracy: 1.0\r"
          ],
          "name": "stdout"
        },
        {
          "output_type": "stream",
          "text": [
            "\r 18%|█▊        | 3/17 [00:00<00:03,  3.88it/s]"
          ],
          "name": "stderr"
        },
        {
          "output_type": "stream",
          "text": [
            "Iter: 2/17, accuracy: 1.0\r"
          ],
          "name": "stdout"
        },
        {
          "output_type": "stream",
          "text": [
            "\r 24%|██▎       | 4/17 [00:01<00:03,  3.87it/s]"
          ],
          "name": "stderr"
        },
        {
          "output_type": "stream",
          "text": [
            "Iter: 3/17, accuracy: 0.875\r"
          ],
          "name": "stdout"
        },
        {
          "output_type": "stream",
          "text": [
            "\r 29%|██▉       | 5/17 [00:01<00:03,  3.85it/s]"
          ],
          "name": "stderr"
        },
        {
          "output_type": "stream",
          "text": [
            "Iter: 4/17, accuracy: 1.0\r"
          ],
          "name": "stdout"
        },
        {
          "output_type": "stream",
          "text": [
            "\r 35%|███▌      | 6/17 [00:01<00:02,  3.83it/s]"
          ],
          "name": "stderr"
        },
        {
          "output_type": "stream",
          "text": [
            "Iter: 5/17, accuracy: 1.0\r"
          ],
          "name": "stdout"
        },
        {
          "output_type": "stream",
          "text": [
            "\r 41%|████      | 7/17 [00:01<00:02,  3.61it/s]"
          ],
          "name": "stderr"
        },
        {
          "output_type": "stream",
          "text": [
            "Iter: 6/17, accuracy: 1.0\r"
          ],
          "name": "stdout"
        },
        {
          "output_type": "stream",
          "text": [
            "\r 47%|████▋     | 8/17 [00:02<00:02,  3.74it/s]"
          ],
          "name": "stderr"
        },
        {
          "output_type": "stream",
          "text": [
            "Iter: 7/17, accuracy: 1.0\r"
          ],
          "name": "stdout"
        },
        {
          "output_type": "stream",
          "text": [
            "\r 53%|█████▎    | 9/17 [00:02<00:02,  3.75it/s]"
          ],
          "name": "stderr"
        },
        {
          "output_type": "stream",
          "text": [
            "Iter: 8/17, accuracy: 0.875\r"
          ],
          "name": "stdout"
        },
        {
          "output_type": "stream",
          "text": [
            "\r 59%|█████▉    | 10/17 [00:02<00:01,  3.78it/s]"
          ],
          "name": "stderr"
        },
        {
          "output_type": "stream",
          "text": [
            "Iter: 9/17, accuracy: 1.0\r"
          ],
          "name": "stdout"
        },
        {
          "output_type": "stream",
          "text": [
            "\r 65%|██████▍   | 11/17 [00:02<00:01,  3.85it/s]"
          ],
          "name": "stderr"
        },
        {
          "output_type": "stream",
          "text": [
            "Iter: 10/17, accuracy: 0.875\r"
          ],
          "name": "stdout"
        },
        {
          "output_type": "stream",
          "text": [
            "\r 71%|███████   | 12/17 [00:03<00:01,  3.80it/s]"
          ],
          "name": "stderr"
        },
        {
          "output_type": "stream",
          "text": [
            "Iter: 11/17, accuracy: 1.0\r"
          ],
          "name": "stdout"
        },
        {
          "output_type": "stream",
          "text": [
            "\r 76%|███████▋  | 13/17 [00:03<00:01,  3.73it/s]"
          ],
          "name": "stderr"
        },
        {
          "output_type": "stream",
          "text": [
            "Iter: 12/17, accuracy: 1.0\r"
          ],
          "name": "stdout"
        },
        {
          "output_type": "stream",
          "text": [
            "\r 82%|████████▏ | 14/17 [00:03<00:00,  3.83it/s]"
          ],
          "name": "stderr"
        },
        {
          "output_type": "stream",
          "text": [
            "Iter: 13/17, accuracy: 1.0\r"
          ],
          "name": "stdout"
        },
        {
          "output_type": "stream",
          "text": [
            "\r 88%|████████▊ | 15/17 [00:03<00:00,  3.78it/s]"
          ],
          "name": "stderr"
        },
        {
          "output_type": "stream",
          "text": [
            "Iter: 14/17, accuracy: 1.0\r"
          ],
          "name": "stdout"
        },
        {
          "output_type": "stream",
          "text": [
            "\r 94%|█████████▍| 16/17 [00:04<00:00,  3.39it/s]"
          ],
          "name": "stderr"
        },
        {
          "output_type": "stream",
          "text": [
            "Iter: 15/17, accuracy: 1.0\r"
          ],
          "name": "stdout"
        },
        {
          "output_type": "stream",
          "text": [
            "100%|██████████| 17/17 [00:04<00:00,  3.71it/s]\n",
            "  0%|          | 0/40 [00:00<?, ?it/s]"
          ],
          "name": "stderr"
        },
        {
          "output_type": "stream",
          "text": [
            "Iter: 16/17, accuracy: 1.0\rAverage test Accuracy: 0.9779411764705882 \n",
            "\n",
            "              precision    recall  f1-score   support\n",
            "\n",
            "         0.0       1.00      0.96      0.98        80\n",
            "         1.0       0.95      1.00      0.97        56\n",
            "\n",
            "    accuracy                           0.98       136\n",
            "   macro avg       0.97      0.98      0.98       136\n",
            "weighted avg       0.98      0.98      0.98       136\n",
            "\n",
            "----------  ---------\n",
            "train_acc    0.996875\n",
            "test_acc     0.977941\n",
            "best_acc     1\n",
            "best_epoch  11\n",
            "----------  ---------\n"
          ],
          "name": "stdout"
        },
        {
          "output_type": "stream",
          "text": [
            "EPOCH: 12 | ITERATION : 39/40 | LOSS: 0.019003350287675858: 100%|██████████| 40/40 [00:17<00:00,  2.23it/s, loss=0.019]\n",
            "  0%|          | 0/17 [00:00<?, ?it/s]"
          ],
          "name": "stderr"
        },
        {
          "output_type": "stream",
          "text": [
            "Avg. train loss: 0.0354027614928782\n",
            "              precision    recall  f1-score   support\n",
            "\n",
            "         0.0       1.00      0.99      1.00       166\n",
            "         1.0       0.99      1.00      1.00       154\n",
            "\n",
            "    accuracy                           1.00       320\n",
            "   macro avg       1.00      1.00      1.00       320\n",
            "weighted avg       1.00      1.00      1.00       320\n",
            "\n"
          ],
          "name": "stdout"
        },
        {
          "output_type": "stream",
          "text": [
            "\r  6%|▌         | 1/17 [00:00<00:04,  3.82it/s]"
          ],
          "name": "stderr"
        },
        {
          "output_type": "stream",
          "text": [
            "Iter: 0/17, accuracy: 1.0\r"
          ],
          "name": "stdout"
        },
        {
          "output_type": "stream",
          "text": [
            "\r 12%|█▏        | 2/17 [00:00<00:03,  3.84it/s]"
          ],
          "name": "stderr"
        },
        {
          "output_type": "stream",
          "text": [
            "Iter: 1/17, accuracy: 1.0\r"
          ],
          "name": "stdout"
        },
        {
          "output_type": "stream",
          "text": [
            "\r 18%|█▊        | 3/17 [00:00<00:03,  3.79it/s]"
          ],
          "name": "stderr"
        },
        {
          "output_type": "stream",
          "text": [
            "Iter: 2/17, accuracy: 1.0\r"
          ],
          "name": "stdout"
        },
        {
          "output_type": "stream",
          "text": [
            "\r 24%|██▎       | 4/17 [00:01<00:03,  3.86it/s]"
          ],
          "name": "stderr"
        },
        {
          "output_type": "stream",
          "text": [
            "Iter: 3/17, accuracy: 1.0\r"
          ],
          "name": "stdout"
        },
        {
          "output_type": "stream",
          "text": [
            "\r 29%|██▉       | 5/17 [00:01<00:03,  3.75it/s]"
          ],
          "name": "stderr"
        },
        {
          "output_type": "stream",
          "text": [
            "Iter: 4/17, accuracy: 1.0\r"
          ],
          "name": "stdout"
        },
        {
          "output_type": "stream",
          "text": [
            "\r 35%|███▌      | 6/17 [00:01<00:02,  3.75it/s]"
          ],
          "name": "stderr"
        },
        {
          "output_type": "stream",
          "text": [
            "Iter: 5/17, accuracy: 1.0\r"
          ],
          "name": "stdout"
        },
        {
          "output_type": "stream",
          "text": [
            "\r 41%|████      | 7/17 [00:01<00:02,  3.54it/s]"
          ],
          "name": "stderr"
        },
        {
          "output_type": "stream",
          "text": [
            "Iter: 6/17, accuracy: 1.0\r"
          ],
          "name": "stdout"
        },
        {
          "output_type": "stream",
          "text": [
            "\r 47%|████▋     | 8/17 [00:02<00:02,  3.63it/s]"
          ],
          "name": "stderr"
        },
        {
          "output_type": "stream",
          "text": [
            "Iter: 7/17, accuracy: 1.0\r"
          ],
          "name": "stdout"
        },
        {
          "output_type": "stream",
          "text": [
            "\r 53%|█████▎    | 9/17 [00:02<00:02,  3.67it/s]"
          ],
          "name": "stderr"
        },
        {
          "output_type": "stream",
          "text": [
            "Iter: 8/17, accuracy: 0.875\r"
          ],
          "name": "stdout"
        },
        {
          "output_type": "stream",
          "text": [
            "\r 59%|█████▉    | 10/17 [00:02<00:01,  3.76it/s]"
          ],
          "name": "stderr"
        },
        {
          "output_type": "stream",
          "text": [
            "Iter: 9/17, accuracy: 1.0\r"
          ],
          "name": "stdout"
        },
        {
          "output_type": "stream",
          "text": [
            "\r 65%|██████▍   | 11/17 [00:02<00:01,  3.66it/s]"
          ],
          "name": "stderr"
        },
        {
          "output_type": "stream",
          "text": [
            "Iter: 10/17, accuracy: 0.875\r"
          ],
          "name": "stdout"
        },
        {
          "output_type": "stream",
          "text": [
            "\r 71%|███████   | 12/17 [00:03<00:01,  3.55it/s]"
          ],
          "name": "stderr"
        },
        {
          "output_type": "stream",
          "text": [
            "Iter: 11/17, accuracy: 1.0\r"
          ],
          "name": "stdout"
        },
        {
          "output_type": "stream",
          "text": [
            "\r 76%|███████▋  | 13/17 [00:03<00:01,  3.53it/s]"
          ],
          "name": "stderr"
        },
        {
          "output_type": "stream",
          "text": [
            "Iter: 12/17, accuracy: 1.0\r"
          ],
          "name": "stdout"
        },
        {
          "output_type": "stream",
          "text": [
            "\r 82%|████████▏ | 14/17 [00:03<00:00,  3.48it/s]"
          ],
          "name": "stderr"
        },
        {
          "output_type": "stream",
          "text": [
            "Iter: 13/17, accuracy: 1.0\r"
          ],
          "name": "stdout"
        },
        {
          "output_type": "stream",
          "text": [
            "\r 88%|████████▊ | 15/17 [00:04<00:00,  3.47it/s]"
          ],
          "name": "stderr"
        },
        {
          "output_type": "stream",
          "text": [
            "Iter: 14/17, accuracy: 1.0\r"
          ],
          "name": "stdout"
        },
        {
          "output_type": "stream",
          "text": [
            "\r 94%|█████████▍| 16/17 [00:04<00:00,  3.24it/s]"
          ],
          "name": "stderr"
        },
        {
          "output_type": "stream",
          "text": [
            "Iter: 15/17, accuracy: 1.0\r"
          ],
          "name": "stdout"
        },
        {
          "output_type": "stream",
          "text": [
            "100%|██████████| 17/17 [00:04<00:00,  3.52it/s]\n",
            "  0%|          | 0/40 [00:00<?, ?it/s]"
          ],
          "name": "stderr"
        },
        {
          "output_type": "stream",
          "text": [
            "Iter: 16/17, accuracy: 1.0\rAverage test Accuracy: 0.9852941176470589 \n",
            "\n",
            "              precision    recall  f1-score   support\n",
            "\n",
            "         0.0       1.00      0.97      0.99        80\n",
            "         1.0       0.97      1.00      0.98        56\n",
            "\n",
            "    accuracy                           0.99       136\n",
            "   macro avg       0.98      0.99      0.98       136\n",
            "weighted avg       0.99      0.99      0.99       136\n",
            "\n",
            "----------  ---------\n",
            "train_acc    0.996875\n",
            "test_acc     0.985294\n",
            "best_acc     1\n",
            "best_epoch  12\n",
            "----------  ---------\n"
          ],
          "name": "stdout"
        },
        {
          "output_type": "stream",
          "text": [
            "EPOCH: 13 | ITERATION : 39/40 | LOSS: 0.01926799863576889: 100%|██████████| 40/40 [00:18<00:00,  2.22it/s, loss=0.0193]\n",
            "  0%|          | 0/17 [00:00<?, ?it/s]"
          ],
          "name": "stderr"
        },
        {
          "output_type": "stream",
          "text": [
            "Avg. train loss: 0.02594700623303652\n",
            "              precision    recall  f1-score   support\n",
            "\n",
            "         0.0       1.00      0.99      1.00       166\n",
            "         1.0       0.99      1.00      1.00       154\n",
            "\n",
            "    accuracy                           1.00       320\n",
            "   macro avg       1.00      1.00      1.00       320\n",
            "weighted avg       1.00      1.00      1.00       320\n",
            "\n"
          ],
          "name": "stdout"
        },
        {
          "output_type": "stream",
          "text": [
            "\r  6%|▌         | 1/17 [00:00<00:04,  3.55it/s]"
          ],
          "name": "stderr"
        },
        {
          "output_type": "stream",
          "text": [
            "Iter: 0/17, accuracy: 1.0\r"
          ],
          "name": "stdout"
        },
        {
          "output_type": "stream",
          "text": [
            "\r 12%|█▏        | 2/17 [00:00<00:04,  3.69it/s]"
          ],
          "name": "stderr"
        },
        {
          "output_type": "stream",
          "text": [
            "Iter: 1/17, accuracy: 1.0\r"
          ],
          "name": "stdout"
        },
        {
          "output_type": "stream",
          "text": [
            "\r 18%|█▊        | 3/17 [00:00<00:03,  3.71it/s]"
          ],
          "name": "stderr"
        },
        {
          "output_type": "stream",
          "text": [
            "Iter: 2/17, accuracy: 1.0\r"
          ],
          "name": "stdout"
        },
        {
          "output_type": "stream",
          "text": [
            "\r 24%|██▎       | 4/17 [00:01<00:03,  3.72it/s]"
          ],
          "name": "stderr"
        },
        {
          "output_type": "stream",
          "text": [
            "Iter: 3/17, accuracy: 1.0\r"
          ],
          "name": "stdout"
        },
        {
          "output_type": "stream",
          "text": [
            "\r 29%|██▉       | 5/17 [00:01<00:03,  3.76it/s]"
          ],
          "name": "stderr"
        },
        {
          "output_type": "stream",
          "text": [
            "Iter: 4/17, accuracy: 1.0\r"
          ],
          "name": "stdout"
        },
        {
          "output_type": "stream",
          "text": [
            "\r 35%|███▌      | 6/17 [00:01<00:02,  3.68it/s]"
          ],
          "name": "stderr"
        },
        {
          "output_type": "stream",
          "text": [
            "Iter: 5/17, accuracy: 1.0\r"
          ],
          "name": "stdout"
        },
        {
          "output_type": "stream",
          "text": [
            "\r 41%|████      | 7/17 [00:01<00:02,  3.51it/s]"
          ],
          "name": "stderr"
        },
        {
          "output_type": "stream",
          "text": [
            "Iter: 6/17, accuracy: 1.0\r"
          ],
          "name": "stdout"
        },
        {
          "output_type": "stream",
          "text": [
            "\r 47%|████▋     | 8/17 [00:02<00:02,  3.63it/s]"
          ],
          "name": "stderr"
        },
        {
          "output_type": "stream",
          "text": [
            "Iter: 7/17, accuracy: 1.0\r"
          ],
          "name": "stdout"
        },
        {
          "output_type": "stream",
          "text": [
            "\r 53%|█████▎    | 9/17 [00:02<00:02,  3.72it/s]"
          ],
          "name": "stderr"
        },
        {
          "output_type": "stream",
          "text": [
            "Iter: 8/17, accuracy: 0.875\r"
          ],
          "name": "stdout"
        },
        {
          "output_type": "stream",
          "text": [
            "\r 59%|█████▉    | 10/17 [00:02<00:01,  3.78it/s]"
          ],
          "name": "stderr"
        },
        {
          "output_type": "stream",
          "text": [
            "Iter: 9/17, accuracy: 1.0\r"
          ],
          "name": "stdout"
        },
        {
          "output_type": "stream",
          "text": [
            "\r 65%|██████▍   | 11/17 [00:02<00:01,  3.87it/s]"
          ],
          "name": "stderr"
        },
        {
          "output_type": "stream",
          "text": [
            "Iter: 10/17, accuracy: 0.875\r"
          ],
          "name": "stdout"
        },
        {
          "output_type": "stream",
          "text": [
            "\r 71%|███████   | 12/17 [00:03<00:01,  3.82it/s]"
          ],
          "name": "stderr"
        },
        {
          "output_type": "stream",
          "text": [
            "Iter: 11/17, accuracy: 1.0\r"
          ],
          "name": "stdout"
        },
        {
          "output_type": "stream",
          "text": [
            "\r 76%|███████▋  | 13/17 [00:03<00:01,  3.76it/s]"
          ],
          "name": "stderr"
        },
        {
          "output_type": "stream",
          "text": [
            "Iter: 12/17, accuracy: 1.0\r"
          ],
          "name": "stdout"
        },
        {
          "output_type": "stream",
          "text": [
            "\r 82%|████████▏ | 14/17 [00:03<00:00,  3.81it/s]"
          ],
          "name": "stderr"
        },
        {
          "output_type": "stream",
          "text": [
            "Iter: 13/17, accuracy: 1.0\r"
          ],
          "name": "stdout"
        },
        {
          "output_type": "stream",
          "text": [
            "\r 88%|████████▊ | 15/17 [00:03<00:00,  3.81it/s]"
          ],
          "name": "stderr"
        },
        {
          "output_type": "stream",
          "text": [
            "Iter: 14/17, accuracy: 1.0\r"
          ],
          "name": "stdout"
        },
        {
          "output_type": "stream",
          "text": [
            "\r 94%|█████████▍| 16/17 [00:04<00:00,  3.46it/s]"
          ],
          "name": "stderr"
        },
        {
          "output_type": "stream",
          "text": [
            "Iter: 15/17, accuracy: 1.0\r"
          ],
          "name": "stdout"
        },
        {
          "output_type": "stream",
          "text": [
            "100%|██████████| 17/17 [00:04<00:00,  3.69it/s]\n",
            "  0%|          | 0/40 [00:00<?, ?it/s]"
          ],
          "name": "stderr"
        },
        {
          "output_type": "stream",
          "text": [
            "Iter: 16/17, accuracy: 1.0\rAverage test Accuracy: 0.9852941176470589 \n",
            "\n",
            "              precision    recall  f1-score   support\n",
            "\n",
            "         0.0       1.00      0.97      0.99        80\n",
            "         1.0       0.97      1.00      0.98        56\n",
            "\n",
            "    accuracy                           0.99       136\n",
            "   macro avg       0.98      0.99      0.98       136\n",
            "weighted avg       0.99      0.99      0.99       136\n",
            "\n",
            "----------  ---------\n",
            "train_acc    0.996875\n",
            "test_acc     0.985294\n",
            "best_acc     1\n",
            "best_epoch  13\n",
            "----------  ---------\n"
          ],
          "name": "stdout"
        },
        {
          "output_type": "stream",
          "text": [
            "EPOCH: 14 | ITERATION : 39/40 | LOSS: 0.017698759213089943: 100%|██████████| 40/40 [00:18<00:00,  2.21it/s, loss=0.0177]\n",
            "  0%|          | 0/17 [00:00<?, ?it/s]"
          ],
          "name": "stderr"
        },
        {
          "output_type": "stream",
          "text": [
            "Avg. train loss: 0.018257350218482314\n",
            "              precision    recall  f1-score   support\n",
            "\n",
            "         0.0       1.00      1.00      1.00       166\n",
            "         1.0       1.00      1.00      1.00       154\n",
            "\n",
            "    accuracy                           1.00       320\n",
            "   macro avg       1.00      1.00      1.00       320\n",
            "weighted avg       1.00      1.00      1.00       320\n",
            "\n"
          ],
          "name": "stdout"
        },
        {
          "output_type": "stream",
          "text": [
            "\r  6%|▌         | 1/17 [00:00<00:04,  3.80it/s]"
          ],
          "name": "stderr"
        },
        {
          "output_type": "stream",
          "text": [
            "Iter: 0/17, accuracy: 1.0\r"
          ],
          "name": "stdout"
        },
        {
          "output_type": "stream",
          "text": [
            "\r 12%|█▏        | 2/17 [00:00<00:03,  3.83it/s]"
          ],
          "name": "stderr"
        },
        {
          "output_type": "stream",
          "text": [
            "Iter: 1/17, accuracy: 1.0\r"
          ],
          "name": "stdout"
        },
        {
          "output_type": "stream",
          "text": [
            "\r 18%|█▊        | 3/17 [00:00<00:03,  3.80it/s]"
          ],
          "name": "stderr"
        },
        {
          "output_type": "stream",
          "text": [
            "Iter: 2/17, accuracy: 1.0\r"
          ],
          "name": "stdout"
        },
        {
          "output_type": "stream",
          "text": [
            "\r 24%|██▎       | 4/17 [00:01<00:03,  3.86it/s]"
          ],
          "name": "stderr"
        },
        {
          "output_type": "stream",
          "text": [
            "Iter: 3/17, accuracy: 1.0\r"
          ],
          "name": "stdout"
        },
        {
          "output_type": "stream",
          "text": [
            "\r 29%|██▉       | 5/17 [00:01<00:03,  3.78it/s]"
          ],
          "name": "stderr"
        },
        {
          "output_type": "stream",
          "text": [
            "Iter: 4/17, accuracy: 1.0\r"
          ],
          "name": "stdout"
        },
        {
          "output_type": "stream",
          "text": [
            "\r 35%|███▌      | 6/17 [00:01<00:02,  3.79it/s]"
          ],
          "name": "stderr"
        },
        {
          "output_type": "stream",
          "text": [
            "Iter: 5/17, accuracy: 1.0\r"
          ],
          "name": "stdout"
        },
        {
          "output_type": "stream",
          "text": [
            "\r 41%|████      | 7/17 [00:01<00:02,  3.59it/s]"
          ],
          "name": "stderr"
        },
        {
          "output_type": "stream",
          "text": [
            "Iter: 6/17, accuracy: 1.0\r"
          ],
          "name": "stdout"
        },
        {
          "output_type": "stream",
          "text": [
            "\r 47%|████▋     | 8/17 [00:02<00:02,  3.72it/s]"
          ],
          "name": "stderr"
        },
        {
          "output_type": "stream",
          "text": [
            "Iter: 7/17, accuracy: 1.0\r"
          ],
          "name": "stdout"
        },
        {
          "output_type": "stream",
          "text": [
            "\r 53%|█████▎    | 9/17 [00:02<00:02,  3.78it/s]"
          ],
          "name": "stderr"
        },
        {
          "output_type": "stream",
          "text": [
            "Iter: 8/17, accuracy: 0.875\r"
          ],
          "name": "stdout"
        },
        {
          "output_type": "stream",
          "text": [
            "\r 59%|█████▉    | 10/17 [00:02<00:01,  3.82it/s]"
          ],
          "name": "stderr"
        },
        {
          "output_type": "stream",
          "text": [
            "Iter: 9/17, accuracy: 1.0\r"
          ],
          "name": "stdout"
        },
        {
          "output_type": "stream",
          "text": [
            "\r 65%|██████▍   | 11/17 [00:02<00:01,  3.76it/s]"
          ],
          "name": "stderr"
        },
        {
          "output_type": "stream",
          "text": [
            "Iter: 10/17, accuracy: 0.875\r"
          ],
          "name": "stdout"
        },
        {
          "output_type": "stream",
          "text": [
            "\r 71%|███████   | 12/17 [00:03<00:01,  3.66it/s]"
          ],
          "name": "stderr"
        },
        {
          "output_type": "stream",
          "text": [
            "Iter: 11/17, accuracy: 1.0\r"
          ],
          "name": "stdout"
        },
        {
          "output_type": "stream",
          "text": [
            "\r 76%|███████▋  | 13/17 [00:03<00:01,  3.63it/s]"
          ],
          "name": "stderr"
        },
        {
          "output_type": "stream",
          "text": [
            "Iter: 12/17, accuracy: 1.0\r"
          ],
          "name": "stdout"
        },
        {
          "output_type": "stream",
          "text": [
            "\r 82%|████████▏ | 14/17 [00:03<00:00,  3.64it/s]"
          ],
          "name": "stderr"
        },
        {
          "output_type": "stream",
          "text": [
            "Iter: 13/17, accuracy: 1.0\r"
          ],
          "name": "stdout"
        },
        {
          "output_type": "stream",
          "text": [
            "\r 88%|████████▊ | 15/17 [00:04<00:00,  3.59it/s]"
          ],
          "name": "stderr"
        },
        {
          "output_type": "stream",
          "text": [
            "Iter: 14/17, accuracy: 1.0\r"
          ],
          "name": "stdout"
        },
        {
          "output_type": "stream",
          "text": [
            "\r 94%|█████████▍| 16/17 [00:04<00:00,  3.32it/s]"
          ],
          "name": "stderr"
        },
        {
          "output_type": "stream",
          "text": [
            "Iter: 15/17, accuracy: 1.0\r"
          ],
          "name": "stdout"
        },
        {
          "output_type": "stream",
          "text": [
            "100%|██████████| 17/17 [00:04<00:00,  3.61it/s]\n",
            "  0%|          | 0/40 [00:00<?, ?it/s]"
          ],
          "name": "stderr"
        },
        {
          "output_type": "stream",
          "text": [
            "Iter: 16/17, accuracy: 1.0\rAverage test Accuracy: 0.9852941176470589 \n",
            "\n",
            "              precision    recall  f1-score   support\n",
            "\n",
            "         0.0       1.00      0.97      0.99        80\n",
            "         1.0       0.97      1.00      0.98        56\n",
            "\n",
            "    accuracy                           0.99       136\n",
            "   macro avg       0.98      0.99      0.98       136\n",
            "weighted avg       0.99      0.99      0.99       136\n",
            "\n",
            "----------  ---------\n",
            "train_acc    1\n",
            "test_acc     0.985294\n",
            "best_acc     1\n",
            "best_epoch  14\n",
            "----------  ---------\n"
          ],
          "name": "stdout"
        },
        {
          "output_type": "stream",
          "text": [
            "EPOCH: 15 | ITERATION : 39/40 | LOSS: 0.010652181692421436: 100%|██████████| 40/40 [00:18<00:00,  2.20it/s, loss=0.0107]\n",
            "  0%|          | 0/17 [00:00<?, ?it/s]"
          ],
          "name": "stderr"
        },
        {
          "output_type": "stream",
          "text": [
            "Avg. train loss: 0.013724810269195586\n",
            "              precision    recall  f1-score   support\n",
            "\n",
            "         0.0       1.00      1.00      1.00       166\n",
            "         1.0       1.00      1.00      1.00       154\n",
            "\n",
            "    accuracy                           1.00       320\n",
            "   macro avg       1.00      1.00      1.00       320\n",
            "weighted avg       1.00      1.00      1.00       320\n",
            "\n"
          ],
          "name": "stdout"
        },
        {
          "output_type": "stream",
          "text": [
            "\r  6%|▌         | 1/17 [00:00<00:04,  3.78it/s]"
          ],
          "name": "stderr"
        },
        {
          "output_type": "stream",
          "text": [
            "Iter: 0/17, accuracy: 1.0\r"
          ],
          "name": "stdout"
        },
        {
          "output_type": "stream",
          "text": [
            "\r 12%|█▏        | 2/17 [00:00<00:03,  3.79it/s]"
          ],
          "name": "stderr"
        },
        {
          "output_type": "stream",
          "text": [
            "Iter: 1/17, accuracy: 1.0\r"
          ],
          "name": "stdout"
        },
        {
          "output_type": "stream",
          "text": [
            "\r 18%|█▊        | 3/17 [00:00<00:03,  3.75it/s]"
          ],
          "name": "stderr"
        },
        {
          "output_type": "stream",
          "text": [
            "Iter: 2/17, accuracy: 1.0\r"
          ],
          "name": "stdout"
        },
        {
          "output_type": "stream",
          "text": [
            "\r 24%|██▎       | 4/17 [00:01<00:03,  3.82it/s]"
          ],
          "name": "stderr"
        },
        {
          "output_type": "stream",
          "text": [
            "Iter: 3/17, accuracy: 1.0\r"
          ],
          "name": "stdout"
        },
        {
          "output_type": "stream",
          "text": [
            "\r 29%|██▉       | 5/17 [00:01<00:03,  3.73it/s]"
          ],
          "name": "stderr"
        },
        {
          "output_type": "stream",
          "text": [
            "Iter: 4/17, accuracy: 1.0\r"
          ],
          "name": "stdout"
        },
        {
          "output_type": "stream",
          "text": [
            "\r 35%|███▌      | 6/17 [00:01<00:02,  3.76it/s]"
          ],
          "name": "stderr"
        },
        {
          "output_type": "stream",
          "text": [
            "Iter: 5/17, accuracy: 1.0\r"
          ],
          "name": "stdout"
        },
        {
          "output_type": "stream",
          "text": [
            "\r 41%|████      | 7/17 [00:01<00:02,  3.53it/s]"
          ],
          "name": "stderr"
        },
        {
          "output_type": "stream",
          "text": [
            "Iter: 6/17, accuracy: 1.0\r"
          ],
          "name": "stdout"
        },
        {
          "output_type": "stream",
          "text": [
            "\r 47%|████▋     | 8/17 [00:02<00:02,  3.67it/s]"
          ],
          "name": "stderr"
        },
        {
          "output_type": "stream",
          "text": [
            "Iter: 7/17, accuracy: 1.0\r"
          ],
          "name": "stdout"
        },
        {
          "output_type": "stream",
          "text": [
            "\r 53%|█████▎    | 9/17 [00:02<00:02,  3.70it/s]"
          ],
          "name": "stderr"
        },
        {
          "output_type": "stream",
          "text": [
            "Iter: 8/17, accuracy: 0.875\r"
          ],
          "name": "stdout"
        },
        {
          "output_type": "stream",
          "text": [
            "\r 59%|█████▉    | 10/17 [00:02<00:01,  3.76it/s]"
          ],
          "name": "stderr"
        },
        {
          "output_type": "stream",
          "text": [
            "Iter: 9/17, accuracy: 1.0\r"
          ],
          "name": "stdout"
        },
        {
          "output_type": "stream",
          "text": [
            "\r 65%|██████▍   | 11/17 [00:02<00:01,  3.83it/s]"
          ],
          "name": "stderr"
        },
        {
          "output_type": "stream",
          "text": [
            "Iter: 10/17, accuracy: 0.875\r"
          ],
          "name": "stdout"
        },
        {
          "output_type": "stream",
          "text": [
            "\r 71%|███████   | 12/17 [00:03<00:01,  3.71it/s]"
          ],
          "name": "stderr"
        },
        {
          "output_type": "stream",
          "text": [
            "Iter: 11/17, accuracy: 1.0\r"
          ],
          "name": "stdout"
        },
        {
          "output_type": "stream",
          "text": [
            "\r 76%|███████▋  | 13/17 [00:03<00:01,  3.64it/s]"
          ],
          "name": "stderr"
        },
        {
          "output_type": "stream",
          "text": [
            "Iter: 12/17, accuracy: 1.0\r"
          ],
          "name": "stdout"
        },
        {
          "output_type": "stream",
          "text": [
            "\r 82%|████████▏ | 14/17 [00:03<00:00,  3.75it/s]"
          ],
          "name": "stderr"
        },
        {
          "output_type": "stream",
          "text": [
            "Iter: 13/17, accuracy: 1.0\r"
          ],
          "name": "stdout"
        },
        {
          "output_type": "stream",
          "text": [
            "\r 88%|████████▊ | 15/17 [00:04<00:00,  3.71it/s]"
          ],
          "name": "stderr"
        },
        {
          "output_type": "stream",
          "text": [
            "Iter: 14/17, accuracy: 1.0\r"
          ],
          "name": "stdout"
        },
        {
          "output_type": "stream",
          "text": [
            "\r 94%|█████████▍| 16/17 [00:04<00:00,  3.30it/s]"
          ],
          "name": "stderr"
        },
        {
          "output_type": "stream",
          "text": [
            "Iter: 15/17, accuracy: 1.0\r"
          ],
          "name": "stdout"
        },
        {
          "output_type": "stream",
          "text": [
            "100%|██████████| 17/17 [00:04<00:00,  3.61it/s]\n",
            "  0%|          | 0/40 [00:00<?, ?it/s]"
          ],
          "name": "stderr"
        },
        {
          "output_type": "stream",
          "text": [
            "Iter: 16/17, accuracy: 1.0\rAverage test Accuracy: 0.9852941176470589 \n",
            "\n",
            "              precision    recall  f1-score   support\n",
            "\n",
            "         0.0       1.00      0.97      0.99        80\n",
            "         1.0       0.97      1.00      0.98        56\n",
            "\n",
            "    accuracy                           0.99       136\n",
            "   macro avg       0.98      0.99      0.98       136\n",
            "weighted avg       0.99      0.99      0.99       136\n",
            "\n",
            "----------  ---------\n",
            "train_acc    1\n",
            "test_acc     0.985294\n",
            "best_acc     1\n",
            "best_epoch  15\n",
            "----------  ---------\n"
          ],
          "name": "stdout"
        },
        {
          "output_type": "stream",
          "text": [
            "EPOCH: 16 | ITERATION : 39/40 | LOSS: 0.009960783645510674: 100%|██████████| 40/40 [00:18<00:00,  2.20it/s, loss=0.00996]\n",
            "  0%|          | 0/17 [00:00<?, ?it/s]"
          ],
          "name": "stderr"
        },
        {
          "output_type": "stream",
          "text": [
            "Avg. train loss: 0.009335319651290775\n",
            "              precision    recall  f1-score   support\n",
            "\n",
            "         0.0       1.00      1.00      1.00       167\n",
            "         1.0       1.00      1.00      1.00       153\n",
            "\n",
            "    accuracy                           1.00       320\n",
            "   macro avg       1.00      1.00      1.00       320\n",
            "weighted avg       1.00      1.00      1.00       320\n",
            "\n"
          ],
          "name": "stdout"
        },
        {
          "output_type": "stream",
          "text": [
            "\r  6%|▌         | 1/17 [00:00<00:04,  3.78it/s]"
          ],
          "name": "stderr"
        },
        {
          "output_type": "stream",
          "text": [
            "Iter: 0/17, accuracy: 1.0\r"
          ],
          "name": "stdout"
        },
        {
          "output_type": "stream",
          "text": [
            "\r 12%|█▏        | 2/17 [00:00<00:03,  3.86it/s]"
          ],
          "name": "stderr"
        },
        {
          "output_type": "stream",
          "text": [
            "Iter: 1/17, accuracy: 1.0\r"
          ],
          "name": "stdout"
        },
        {
          "output_type": "stream",
          "text": [
            "\r 18%|█▊        | 3/17 [00:00<00:03,  3.83it/s]"
          ],
          "name": "stderr"
        },
        {
          "output_type": "stream",
          "text": [
            "Iter: 2/17, accuracy: 1.0\r"
          ],
          "name": "stdout"
        },
        {
          "output_type": "stream",
          "text": [
            "\r 24%|██▎       | 4/17 [00:01<00:03,  3.85it/s]"
          ],
          "name": "stderr"
        },
        {
          "output_type": "stream",
          "text": [
            "Iter: 3/17, accuracy: 1.0\r"
          ],
          "name": "stdout"
        },
        {
          "output_type": "stream",
          "text": [
            "\r 29%|██▉       | 5/17 [00:01<00:03,  3.79it/s]"
          ],
          "name": "stderr"
        },
        {
          "output_type": "stream",
          "text": [
            "Iter: 4/17, accuracy: 1.0\r"
          ],
          "name": "stdout"
        },
        {
          "output_type": "stream",
          "text": [
            "\r 35%|███▌      | 6/17 [00:01<00:02,  3.83it/s]"
          ],
          "name": "stderr"
        },
        {
          "output_type": "stream",
          "text": [
            "Iter: 5/17, accuracy: 1.0\r"
          ],
          "name": "stdout"
        },
        {
          "output_type": "stream",
          "text": [
            "\r 41%|████      | 7/17 [00:01<00:02,  3.55it/s]"
          ],
          "name": "stderr"
        },
        {
          "output_type": "stream",
          "text": [
            "Iter: 6/17, accuracy: 1.0\r"
          ],
          "name": "stdout"
        },
        {
          "output_type": "stream",
          "text": [
            "\r 47%|████▋     | 8/17 [00:02<00:02,  3.68it/s]"
          ],
          "name": "stderr"
        },
        {
          "output_type": "stream",
          "text": [
            "Iter: 7/17, accuracy: 1.0\r"
          ],
          "name": "stdout"
        },
        {
          "output_type": "stream",
          "text": [
            "\r 53%|█████▎    | 9/17 [00:02<00:02,  3.78it/s]"
          ],
          "name": "stderr"
        },
        {
          "output_type": "stream",
          "text": [
            "Iter: 8/17, accuracy: 0.875\r"
          ],
          "name": "stdout"
        },
        {
          "output_type": "stream",
          "text": [
            "\r 59%|█████▉    | 10/17 [00:02<00:01,  3.76it/s]"
          ],
          "name": "stderr"
        },
        {
          "output_type": "stream",
          "text": [
            "Iter: 9/17, accuracy: 1.0\r"
          ],
          "name": "stdout"
        },
        {
          "output_type": "stream",
          "text": [
            "\r 65%|██████▍   | 11/17 [00:02<00:01,  3.67it/s]"
          ],
          "name": "stderr"
        },
        {
          "output_type": "stream",
          "text": [
            "Iter: 10/17, accuracy: 0.875\r"
          ],
          "name": "stdout"
        },
        {
          "output_type": "stream",
          "text": [
            "\r 71%|███████   | 12/17 [00:03<00:01,  3.65it/s]"
          ],
          "name": "stderr"
        },
        {
          "output_type": "stream",
          "text": [
            "Iter: 11/17, accuracy: 1.0\r"
          ],
          "name": "stdout"
        },
        {
          "output_type": "stream",
          "text": [
            "\r 76%|███████▋  | 13/17 [00:03<00:01,  3.48it/s]"
          ],
          "name": "stderr"
        },
        {
          "output_type": "stream",
          "text": [
            "Iter: 12/17, accuracy: 1.0\r"
          ],
          "name": "stdout"
        },
        {
          "output_type": "stream",
          "text": [
            "\r 82%|████████▏ | 14/17 [00:03<00:00,  3.52it/s]"
          ],
          "name": "stderr"
        },
        {
          "output_type": "stream",
          "text": [
            "Iter: 13/17, accuracy: 1.0\r"
          ],
          "name": "stdout"
        },
        {
          "output_type": "stream",
          "text": [
            "\r 88%|████████▊ | 15/17 [00:04<00:00,  3.51it/s]"
          ],
          "name": "stderr"
        },
        {
          "output_type": "stream",
          "text": [
            "Iter: 14/17, accuracy: 1.0\r"
          ],
          "name": "stdout"
        },
        {
          "output_type": "stream",
          "text": [
            "\r 94%|█████████▍| 16/17 [00:04<00:00,  3.13it/s]"
          ],
          "name": "stderr"
        },
        {
          "output_type": "stream",
          "text": [
            "Iter: 15/17, accuracy: 1.0\r"
          ],
          "name": "stdout"
        },
        {
          "output_type": "stream",
          "text": [
            "100%|██████████| 17/17 [00:04<00:00,  3.54it/s]\n",
            "  0%|          | 0/40 [00:00<?, ?it/s]"
          ],
          "name": "stderr"
        },
        {
          "output_type": "stream",
          "text": [
            "Iter: 16/17, accuracy: 1.0\rAverage test Accuracy: 0.9852941176470589 \n",
            "\n",
            "              precision    recall  f1-score   support\n",
            "\n",
            "         0.0       1.00      0.97      0.99        80\n",
            "         1.0       0.97      1.00      0.98        56\n",
            "\n",
            "    accuracy                           0.99       136\n",
            "   macro avg       0.98      0.99      0.98       136\n",
            "weighted avg       0.99      0.99      0.99       136\n",
            "\n",
            "----------  ---------\n",
            "train_acc    1\n",
            "test_acc     0.985294\n",
            "best_acc     1\n",
            "best_epoch  16\n",
            "----------  ---------\n"
          ],
          "name": "stdout"
        },
        {
          "output_type": "stream",
          "text": [
            "EPOCH: 17 | ITERATION : 39/40 | LOSS: 0.010373157449066639: 100%|██████████| 40/40 [00:18<00:00,  2.19it/s, loss=0.0104]\n",
            "  0%|          | 0/17 [00:00<?, ?it/s]"
          ],
          "name": "stderr"
        },
        {
          "output_type": "stream",
          "text": [
            "Avg. train loss: 0.007711611042032019\n",
            "              precision    recall  f1-score   support\n",
            "\n",
            "         0.0       1.00      1.00      1.00       167\n",
            "         1.0       1.00      1.00      1.00       153\n",
            "\n",
            "    accuracy                           1.00       320\n",
            "   macro avg       1.00      1.00      1.00       320\n",
            "weighted avg       1.00      1.00      1.00       320\n",
            "\n"
          ],
          "name": "stdout"
        },
        {
          "output_type": "stream",
          "text": [
            "\r  6%|▌         | 1/17 [00:00<00:04,  3.64it/s]"
          ],
          "name": "stderr"
        },
        {
          "output_type": "stream",
          "text": [
            "Iter: 0/17, accuracy: 1.0\r"
          ],
          "name": "stdout"
        },
        {
          "output_type": "stream",
          "text": [
            "\r 12%|█▏        | 2/17 [00:00<00:04,  3.68it/s]"
          ],
          "name": "stderr"
        },
        {
          "output_type": "stream",
          "text": [
            "Iter: 1/17, accuracy: 1.0\r"
          ],
          "name": "stdout"
        },
        {
          "output_type": "stream",
          "text": [
            "\r 18%|█▊        | 3/17 [00:00<00:03,  3.72it/s]"
          ],
          "name": "stderr"
        },
        {
          "output_type": "stream",
          "text": [
            "Iter: 2/17, accuracy: 1.0\r"
          ],
          "name": "stdout"
        },
        {
          "output_type": "stream",
          "text": [
            "\r 24%|██▎       | 4/17 [00:01<00:03,  3.80it/s]"
          ],
          "name": "stderr"
        },
        {
          "output_type": "stream",
          "text": [
            "Iter: 3/17, accuracy: 1.0\r"
          ],
          "name": "stdout"
        },
        {
          "output_type": "stream",
          "text": [
            "\r 29%|██▉       | 5/17 [00:01<00:03,  3.71it/s]"
          ],
          "name": "stderr"
        },
        {
          "output_type": "stream",
          "text": [
            "Iter: 4/17, accuracy: 1.0\r"
          ],
          "name": "stdout"
        },
        {
          "output_type": "stream",
          "text": [
            "\r 35%|███▌      | 6/17 [00:01<00:02,  3.74it/s]"
          ],
          "name": "stderr"
        },
        {
          "output_type": "stream",
          "text": [
            "Iter: 5/17, accuracy: 1.0\r"
          ],
          "name": "stdout"
        },
        {
          "output_type": "stream",
          "text": [
            "\r 41%|████      | 7/17 [00:01<00:02,  3.50it/s]"
          ],
          "name": "stderr"
        },
        {
          "output_type": "stream",
          "text": [
            "Iter: 6/17, accuracy: 1.0\r"
          ],
          "name": "stdout"
        },
        {
          "output_type": "stream",
          "text": [
            "\r 47%|████▋     | 8/17 [00:02<00:02,  3.58it/s]"
          ],
          "name": "stderr"
        },
        {
          "output_type": "stream",
          "text": [
            "Iter: 7/17, accuracy: 1.0\r"
          ],
          "name": "stdout"
        },
        {
          "output_type": "stream",
          "text": [
            "\r 53%|█████▎    | 9/17 [00:02<00:02,  3.62it/s]"
          ],
          "name": "stderr"
        },
        {
          "output_type": "stream",
          "text": [
            "Iter: 8/17, accuracy: 0.875\r"
          ],
          "name": "stdout"
        },
        {
          "output_type": "stream",
          "text": [
            "\r 59%|█████▉    | 10/17 [00:02<00:01,  3.66it/s]"
          ],
          "name": "stderr"
        },
        {
          "output_type": "stream",
          "text": [
            "Iter: 9/17, accuracy: 1.0\r"
          ],
          "name": "stdout"
        },
        {
          "output_type": "stream",
          "text": [
            "\r 65%|██████▍   | 11/17 [00:03<00:01,  3.64it/s]"
          ],
          "name": "stderr"
        },
        {
          "output_type": "stream",
          "text": [
            "Iter: 10/17, accuracy: 0.875\r"
          ],
          "name": "stdout"
        },
        {
          "output_type": "stream",
          "text": [
            "\r 71%|███████   | 12/17 [00:03<00:01,  3.66it/s]"
          ],
          "name": "stderr"
        },
        {
          "output_type": "stream",
          "text": [
            "Iter: 11/17, accuracy: 1.0\r"
          ],
          "name": "stdout"
        },
        {
          "output_type": "stream",
          "text": [
            "\r 76%|███████▋  | 13/17 [00:03<00:01,  3.64it/s]"
          ],
          "name": "stderr"
        },
        {
          "output_type": "stream",
          "text": [
            "Iter: 12/17, accuracy: 1.0\r"
          ],
          "name": "stdout"
        },
        {
          "output_type": "stream",
          "text": [
            "\r 82%|████████▏ | 14/17 [00:03<00:00,  3.68it/s]"
          ],
          "name": "stderr"
        },
        {
          "output_type": "stream",
          "text": [
            "Iter: 13/17, accuracy: 1.0\r"
          ],
          "name": "stdout"
        },
        {
          "output_type": "stream",
          "text": [
            "\r 88%|████████▊ | 15/17 [00:04<00:00,  3.67it/s]"
          ],
          "name": "stderr"
        },
        {
          "output_type": "stream",
          "text": [
            "Iter: 14/17, accuracy: 1.0\r"
          ],
          "name": "stdout"
        },
        {
          "output_type": "stream",
          "text": [
            "\r 94%|█████████▍| 16/17 [00:04<00:00,  3.39it/s]"
          ],
          "name": "stderr"
        },
        {
          "output_type": "stream",
          "text": [
            "Iter: 15/17, accuracy: 1.0\r"
          ],
          "name": "stdout"
        },
        {
          "output_type": "stream",
          "text": [
            "100%|██████████| 17/17 [00:04<00:00,  3.60it/s]\n",
            "  0%|          | 0/40 [00:00<?, ?it/s]"
          ],
          "name": "stderr"
        },
        {
          "output_type": "stream",
          "text": [
            "Iter: 16/17, accuracy: 1.0\rAverage test Accuracy: 0.9852941176470589 \n",
            "\n",
            "              precision    recall  f1-score   support\n",
            "\n",
            "         0.0       1.00      0.97      0.99        80\n",
            "         1.0       0.97      1.00      0.98        56\n",
            "\n",
            "    accuracy                           0.99       136\n",
            "   macro avg       0.98      0.99      0.98       136\n",
            "weighted avg       0.99      0.99      0.99       136\n",
            "\n",
            "----------  ---------\n",
            "train_acc    1\n",
            "test_acc     0.985294\n",
            "best_acc     1\n",
            "best_epoch  17\n",
            "----------  ---------\n"
          ],
          "name": "stdout"
        },
        {
          "output_type": "stream",
          "text": [
            "EPOCH: 18 | ITERATION : 39/40 | LOSS: 0.008924014866352081: 100%|██████████| 40/40 [00:18<00:00,  2.20it/s, loss=0.00892]\n",
            "  0%|          | 0/17 [00:00<?, ?it/s]"
          ],
          "name": "stderr"
        },
        {
          "output_type": "stream",
          "text": [
            "Avg. train loss: 0.00608860538341105\n",
            "              precision    recall  f1-score   support\n",
            "\n",
            "         0.0       1.00      1.00      1.00       166\n",
            "         1.0       1.00      1.00      1.00       154\n",
            "\n",
            "    accuracy                           1.00       320\n",
            "   macro avg       1.00      1.00      1.00       320\n",
            "weighted avg       1.00      1.00      1.00       320\n",
            "\n"
          ],
          "name": "stdout"
        },
        {
          "output_type": "stream",
          "text": [
            "\r  6%|▌         | 1/17 [00:00<00:04,  3.60it/s]"
          ],
          "name": "stderr"
        },
        {
          "output_type": "stream",
          "text": [
            "Iter: 0/17, accuracy: 1.0\r"
          ],
          "name": "stdout"
        },
        {
          "output_type": "stream",
          "text": [
            "\r 12%|█▏        | 2/17 [00:00<00:04,  3.70it/s]"
          ],
          "name": "stderr"
        },
        {
          "output_type": "stream",
          "text": [
            "Iter: 1/17, accuracy: 1.0\r"
          ],
          "name": "stdout"
        },
        {
          "output_type": "stream",
          "text": [
            "\r 18%|█▊        | 3/17 [00:00<00:03,  3.68it/s]"
          ],
          "name": "stderr"
        },
        {
          "output_type": "stream",
          "text": [
            "Iter: 2/17, accuracy: 1.0\r"
          ],
          "name": "stdout"
        },
        {
          "output_type": "stream",
          "text": [
            "\r 24%|██▎       | 4/17 [00:01<00:03,  3.72it/s]"
          ],
          "name": "stderr"
        },
        {
          "output_type": "stream",
          "text": [
            "Iter: 3/17, accuracy: 1.0\r"
          ],
          "name": "stdout"
        },
        {
          "output_type": "stream",
          "text": [
            "\r 29%|██▉       | 5/17 [00:01<00:03,  3.68it/s]"
          ],
          "name": "stderr"
        },
        {
          "output_type": "stream",
          "text": [
            "Iter: 4/17, accuracy: 1.0\r"
          ],
          "name": "stdout"
        },
        {
          "output_type": "stream",
          "text": [
            "\r 35%|███▌      | 6/17 [00:01<00:03,  3.66it/s]"
          ],
          "name": "stderr"
        },
        {
          "output_type": "stream",
          "text": [
            "Iter: 5/17, accuracy: 1.0\r"
          ],
          "name": "stdout"
        },
        {
          "output_type": "stream",
          "text": [
            "\r 41%|████      | 7/17 [00:01<00:02,  3.44it/s]"
          ],
          "name": "stderr"
        },
        {
          "output_type": "stream",
          "text": [
            "Iter: 6/17, accuracy: 1.0\r"
          ],
          "name": "stdout"
        },
        {
          "output_type": "stream",
          "text": [
            "\r 47%|████▋     | 8/17 [00:02<00:02,  3.61it/s]"
          ],
          "name": "stderr"
        },
        {
          "output_type": "stream",
          "text": [
            "Iter: 7/17, accuracy: 1.0\r"
          ],
          "name": "stdout"
        },
        {
          "output_type": "stream",
          "text": [
            "\r 53%|█████▎    | 9/17 [00:02<00:02,  3.63it/s]"
          ],
          "name": "stderr"
        },
        {
          "output_type": "stream",
          "text": [
            "Iter: 8/17, accuracy: 0.875\r"
          ],
          "name": "stdout"
        },
        {
          "output_type": "stream",
          "text": [
            "\r 59%|█████▉    | 10/17 [00:02<00:01,  3.52it/s]"
          ],
          "name": "stderr"
        },
        {
          "output_type": "stream",
          "text": [
            "Iter: 9/17, accuracy: 1.0\r"
          ],
          "name": "stdout"
        },
        {
          "output_type": "stream",
          "text": [
            "\r 65%|██████▍   | 11/17 [00:03<00:01,  3.58it/s]"
          ],
          "name": "stderr"
        },
        {
          "output_type": "stream",
          "text": [
            "Iter: 10/17, accuracy: 0.875\r"
          ],
          "name": "stdout"
        },
        {
          "output_type": "stream",
          "text": [
            "\r 71%|███████   | 12/17 [00:03<00:01,  3.49it/s]"
          ],
          "name": "stderr"
        },
        {
          "output_type": "stream",
          "text": [
            "Iter: 11/17, accuracy: 1.0\r"
          ],
          "name": "stdout"
        },
        {
          "output_type": "stream",
          "text": [
            "\r 76%|███████▋  | 13/17 [00:03<00:01,  3.44it/s]"
          ],
          "name": "stderr"
        },
        {
          "output_type": "stream",
          "text": [
            "Iter: 12/17, accuracy: 1.0\r"
          ],
          "name": "stdout"
        },
        {
          "output_type": "stream",
          "text": [
            "\r 82%|████████▏ | 14/17 [00:03<00:00,  3.52it/s]"
          ],
          "name": "stderr"
        },
        {
          "output_type": "stream",
          "text": [
            "Iter: 13/17, accuracy: 1.0\r"
          ],
          "name": "stdout"
        },
        {
          "output_type": "stream",
          "text": [
            "\r 88%|████████▊ | 15/17 [00:04<00:00,  3.40it/s]"
          ],
          "name": "stderr"
        },
        {
          "output_type": "stream",
          "text": [
            "Iter: 14/17, accuracy: 1.0\r"
          ],
          "name": "stdout"
        },
        {
          "output_type": "stream",
          "text": [
            "\r 94%|█████████▍| 16/17 [00:04<00:00,  3.13it/s]"
          ],
          "name": "stderr"
        },
        {
          "output_type": "stream",
          "text": [
            "Iter: 15/17, accuracy: 1.0\r"
          ],
          "name": "stdout"
        },
        {
          "output_type": "stream",
          "text": [
            "100%|██████████| 17/17 [00:04<00:00,  3.47it/s]\n",
            "  0%|          | 0/40 [00:00<?, ?it/s]"
          ],
          "name": "stderr"
        },
        {
          "output_type": "stream",
          "text": [
            "Iter: 16/17, accuracy: 1.0\rAverage test Accuracy: 0.9852941176470589 \n",
            "\n",
            "              precision    recall  f1-score   support\n",
            "\n",
            "         0.0       1.00      0.97      0.99        80\n",
            "         1.0       0.97      1.00      0.98        56\n",
            "\n",
            "    accuracy                           0.99       136\n",
            "   macro avg       0.98      0.99      0.98       136\n",
            "weighted avg       0.99      0.99      0.99       136\n",
            "\n",
            "----------  ---------\n",
            "train_acc    1\n",
            "test_acc     0.985294\n",
            "best_acc     1\n",
            "best_epoch  18\n",
            "----------  ---------\n"
          ],
          "name": "stdout"
        },
        {
          "output_type": "stream",
          "text": [
            "EPOCH: 19 | ITERATION : 39/40 | LOSS: 0.006375056225806475: 100%|██████████| 40/40 [00:18<00:00,  2.19it/s, loss=0.00638]\n",
            "  0%|          | 0/17 [00:00<?, ?it/s]"
          ],
          "name": "stderr"
        },
        {
          "output_type": "stream",
          "text": [
            "Avg. train loss: 0.005767950508743525\n",
            "              precision    recall  f1-score   support\n",
            "\n",
            "         0.0       1.00      1.00      1.00       165\n",
            "         1.0       1.00      1.00      1.00       155\n",
            "\n",
            "    accuracy                           1.00       320\n",
            "   macro avg       1.00      1.00      1.00       320\n",
            "weighted avg       1.00      1.00      1.00       320\n",
            "\n"
          ],
          "name": "stdout"
        },
        {
          "output_type": "stream",
          "text": [
            "\r  6%|▌         | 1/17 [00:00<00:04,  3.71it/s]"
          ],
          "name": "stderr"
        },
        {
          "output_type": "stream",
          "text": [
            "Iter: 0/17, accuracy: 1.0\r"
          ],
          "name": "stdout"
        },
        {
          "output_type": "stream",
          "text": [
            "\r 12%|█▏        | 2/17 [00:00<00:03,  3.79it/s]"
          ],
          "name": "stderr"
        },
        {
          "output_type": "stream",
          "text": [
            "Iter: 1/17, accuracy: 1.0\r"
          ],
          "name": "stdout"
        },
        {
          "output_type": "stream",
          "text": [
            "\r 18%|█▊        | 3/17 [00:00<00:03,  3.77it/s]"
          ],
          "name": "stderr"
        },
        {
          "output_type": "stream",
          "text": [
            "Iter: 2/17, accuracy: 1.0\r"
          ],
          "name": "stdout"
        },
        {
          "output_type": "stream",
          "text": [
            "\r 24%|██▎       | 4/17 [00:01<00:03,  3.77it/s]"
          ],
          "name": "stderr"
        },
        {
          "output_type": "stream",
          "text": [
            "Iter: 3/17, accuracy: 1.0\r"
          ],
          "name": "stdout"
        },
        {
          "output_type": "stream",
          "text": [
            "\r 29%|██▉       | 5/17 [00:01<00:03,  3.77it/s]"
          ],
          "name": "stderr"
        },
        {
          "output_type": "stream",
          "text": [
            "Iter: 4/17, accuracy: 1.0\r"
          ],
          "name": "stdout"
        },
        {
          "output_type": "stream",
          "text": [
            "\r 35%|███▌      | 6/17 [00:01<00:02,  3.69it/s]"
          ],
          "name": "stderr"
        },
        {
          "output_type": "stream",
          "text": [
            "Iter: 5/17, accuracy: 1.0\r"
          ],
          "name": "stdout"
        },
        {
          "output_type": "stream",
          "text": [
            "\r 41%|████      | 7/17 [00:01<00:02,  3.49it/s]"
          ],
          "name": "stderr"
        },
        {
          "output_type": "stream",
          "text": [
            "Iter: 6/17, accuracy: 1.0\r"
          ],
          "name": "stdout"
        },
        {
          "output_type": "stream",
          "text": [
            "\r 47%|████▋     | 8/17 [00:02<00:02,  3.65it/s]"
          ],
          "name": "stderr"
        },
        {
          "output_type": "stream",
          "text": [
            "Iter: 7/17, accuracy: 1.0\r"
          ],
          "name": "stdout"
        },
        {
          "output_type": "stream",
          "text": [
            "\r 53%|█████▎    | 9/17 [00:02<00:02,  3.69it/s]"
          ],
          "name": "stderr"
        },
        {
          "output_type": "stream",
          "text": [
            "Iter: 8/17, accuracy: 0.875\r"
          ],
          "name": "stdout"
        },
        {
          "output_type": "stream",
          "text": [
            "\r 59%|█████▉    | 10/17 [00:02<00:01,  3.72it/s]"
          ],
          "name": "stderr"
        },
        {
          "output_type": "stream",
          "text": [
            "Iter: 9/17, accuracy: 1.0\r"
          ],
          "name": "stdout"
        },
        {
          "output_type": "stream",
          "text": [
            "\r 65%|██████▍   | 11/17 [00:02<00:01,  3.77it/s]"
          ],
          "name": "stderr"
        },
        {
          "output_type": "stream",
          "text": [
            "Iter: 10/17, accuracy: 0.875\r"
          ],
          "name": "stdout"
        },
        {
          "output_type": "stream",
          "text": [
            "\r 71%|███████   | 12/17 [00:03<00:01,  3.77it/s]"
          ],
          "name": "stderr"
        },
        {
          "output_type": "stream",
          "text": [
            "Iter: 11/17, accuracy: 1.0\r"
          ],
          "name": "stdout"
        },
        {
          "output_type": "stream",
          "text": [
            "\r 76%|███████▋  | 13/17 [00:03<00:01,  3.68it/s]"
          ],
          "name": "stderr"
        },
        {
          "output_type": "stream",
          "text": [
            "Iter: 12/17, accuracy: 1.0\r"
          ],
          "name": "stdout"
        },
        {
          "output_type": "stream",
          "text": [
            "\r 82%|████████▏ | 14/17 [00:03<00:00,  3.78it/s]"
          ],
          "name": "stderr"
        },
        {
          "output_type": "stream",
          "text": [
            "Iter: 13/17, accuracy: 1.0\r"
          ],
          "name": "stdout"
        },
        {
          "output_type": "stream",
          "text": [
            "\r 88%|████████▊ | 15/17 [00:04<00:00,  3.72it/s]"
          ],
          "name": "stderr"
        },
        {
          "output_type": "stream",
          "text": [
            "Iter: 14/17, accuracy: 1.0\r"
          ],
          "name": "stdout"
        },
        {
          "output_type": "stream",
          "text": [
            "\r 94%|█████████▍| 16/17 [00:04<00:00,  3.38it/s]"
          ],
          "name": "stderr"
        },
        {
          "output_type": "stream",
          "text": [
            "Iter: 15/17, accuracy: 1.0\r"
          ],
          "name": "stdout"
        },
        {
          "output_type": "stream",
          "text": [
            "100%|██████████| 17/17 [00:04<00:00,  3.65it/s]"
          ],
          "name": "stderr"
        },
        {
          "output_type": "stream",
          "text": [
            "Iter: 16/17, accuracy: 1.0\rAverage test Accuracy: 0.9852941176470589 \n",
            "\n",
            "              precision    recall  f1-score   support\n",
            "\n",
            "         0.0       1.00      0.97      0.99        80\n",
            "         1.0       0.97      1.00      0.98        56\n",
            "\n",
            "    accuracy                           0.99       136\n",
            "   macro avg       0.98      0.99      0.98       136\n",
            "weighted avg       0.99      0.99      0.99       136\n",
            "\n",
            "----------  ---------\n",
            "train_acc    1\n",
            "test_acc     0.985294\n",
            "best_acc     1\n",
            "best_epoch  19\n",
            "----------  ---------\n"
          ],
          "name": "stdout"
        },
        {
          "output_type": "stream",
          "text": [
            "\n"
          ],
          "name": "stderr"
        }
      ]
    },
    {
      "cell_type": "code",
      "metadata": {
        "id": "t_j1w2FZQNaj"
      },
      "source": [
        "torch.load(\"/content/model_epoch_4.pth.tar\")"
      ],
      "execution_count": null,
      "outputs": []
    },
    {
      "cell_type": "code",
      "metadata": {
        "id": "4rnOM-sWCTus"
      },
      "source": [
        "waveform, sr = torchaudio.load(\"/content/drive/MyDrive/DREAM/Wakewords/input/cv-other-dev/sample-000181.mp3\")\n",
        "audio_mono = torch.mean(waveform, dim=0, keepdim=True)\n",
        "tempData = torch.zeros([1, 160000])\n",
        "if audio_mono.numel() < 160000:\n",
        "    tempData[:, :audio_mono.numel()] = audio_mono\n",
        "else:\n",
        "    tempData = audio_mono[:, :160000]\n",
        "audio_mono=tempData\n",
        "mel_specgram = torchaudio.transforms.MelSpectrogram(sr)(audio_mono)\n",
        "mel_specgram_norm = (mel_specgram - mel_specgram.mean()) / mel_specgram.std()\n",
        "mfcc = torchaudio.transforms.MFCC(sample_rate=sr)(audio_mono)\n",
        "#         print(f'mfcc {mfcc.size()}')\n",
        "mfcc_norm = (mfcc - mfcc.mean()) / mfcc.std()\n",
        "new_feat = torch.cat([mel_specgram, mfcc], axis=1)"
      ],
      "execution_count": null,
      "outputs": []
    },
    {
      "cell_type": "code",
      "metadata": {
        "colab": {
          "base_uri": "https://localhost:8080/"
        },
        "id": "b1gMwXqlDeOZ",
        "outputId": "2b69b847-7f56-4a76-e7ed-108eb3454ba9"
      },
      "source": [
        "waveform, sr = torchaudio.load(\"/content/drive/MyDrive/DREAM/Wakewords/input/wake/0 - Copy (3).wav\")\n",
        "audio_mono = torch.mean(waveform, dim=0, keepdim=True)\n",
        "tempData = torch.zeros([1, 160000])\n",
        "if audio_mono.numel() < 160000:\n",
        "    tempData[:, :audio_mono.numel()] = audio_mono\n",
        "else:\n",
        "    tempData = audio_mono[:, :160000]\n",
        "audio_mono=tempData\n",
        "mel_specgram = torchaudio.transforms.MelSpectrogram(sr)(audio_mono)\n",
        "mel_specgram_norm = (mel_specgram - mel_specgram.mean()) / mel_specgram.std()\n",
        "mfcc = torchaudio.transforms.MFCC(sample_rate=sr)(audio_mono)\n",
        "#         print(f'mfcc {mfcc.size()}')\n",
        "mfcc_norm = (mfcc - mfcc.mean()) / mfcc.std()\n",
        "new_feat = torch.cat([mel_specgram, mfcc], axis=1)\n",
        "\n",
        "data = torch.utils.data.DataLoader(new_feat.permute(0, 2, 1))\n",
        "model = torch.load(\"/content/model_epoch_4.pth.tar\", map_location=torch.device(\"cpu\"))[\"model\"]\n",
        "new = torch.load(\"/content/model_epoch_4.pth.tar\", map_location=torch.device(\"cpu\"))[\"state_dict\"]\n",
        "\n",
        "model.load_state_dict(new)\n",
        "model.eval().cpu()\n",
        "with torch.no_grad():\n",
        "  for x in data:\n",
        "    x = x.to(\"cpu\")\n",
        "    output, hidden_state = model(x, (torch.zeros(2, 1, 256), torch.zeros(2, 1, 256)))\n",
        "    print(torch.round(torch.sigmoid(output)))"
      ],
      "execution_count": null,
      "outputs": [
        {
          "output_type": "stream",
          "text": [
            "tensor([[1.]])\n"
          ],
          "name": "stdout"
        }
      ]
    },
    {
      "cell_type": "code",
      "metadata": {
        "id": "yrWin-K_DwMA",
        "colab": {
          "base_uri": "https://localhost:8080/"
        },
        "outputId": "28a1b34f-db76-41ba-f6a8-e8e654dea09c"
      },
      "source": [
        "model.init_hidden(1)[1]"
      ],
      "execution_count": null,
      "outputs": [
        {
          "output_type": "execute_result",
          "data": {
            "text/plain": [
              "tensor([[[0., 0., 0., 0., 0., 0., 0., 0., 0., 0., 0., 0., 0., 0., 0., 0., 0., 0., 0., 0., 0., 0., 0.,\n",
              "          0., 0., 0., 0., 0., 0., 0., 0., 0., 0., 0., 0., 0., 0., 0., 0., 0., 0., 0., 0., 0., 0., 0.,\n",
              "          0., 0., 0., 0., 0., 0., 0., 0., 0., 0., 0., 0., 0., 0., 0., 0., 0., 0., 0., 0., 0., 0., 0.,\n",
              "          0., 0., 0., 0., 0., 0., 0., 0., 0., 0., 0., 0., 0., 0., 0., 0., 0., 0., 0., 0., 0., 0., 0.,\n",
              "          0., 0., 0., 0., 0., 0., 0., 0., 0., 0., 0., 0., 0., 0., 0., 0., 0., 0., 0., 0., 0., 0., 0.,\n",
              "          0., 0., 0., 0., 0., 0., 0., 0., 0., 0., 0., 0., 0., 0., 0., 0., 0., 0., 0., 0., 0., 0., 0.,\n",
              "          0., 0., 0., 0., 0., 0., 0., 0., 0., 0., 0., 0., 0., 0., 0., 0., 0., 0., 0., 0., 0., 0., 0.,\n",
              "          0., 0., 0., 0., 0., 0., 0., 0., 0., 0., 0., 0., 0., 0., 0., 0., 0., 0., 0., 0., 0., 0., 0.,\n",
              "          0., 0., 0., 0., 0., 0., 0., 0., 0., 0., 0., 0., 0., 0., 0., 0., 0., 0., 0., 0., 0., 0., 0.,\n",
              "          0., 0., 0., 0., 0., 0., 0., 0., 0., 0., 0., 0., 0., 0., 0., 0., 0., 0., 0., 0., 0., 0., 0.,\n",
              "          0., 0., 0., 0., 0., 0., 0., 0., 0., 0., 0., 0., 0., 0., 0., 0., 0., 0., 0., 0., 0., 0., 0.,\n",
              "          0., 0., 0.]],\n",
              "\n",
              "        [[0., 0., 0., 0., 0., 0., 0., 0., 0., 0., 0., 0., 0., 0., 0., 0., 0., 0., 0., 0., 0., 0., 0.,\n",
              "          0., 0., 0., 0., 0., 0., 0., 0., 0., 0., 0., 0., 0., 0., 0., 0., 0., 0., 0., 0., 0., 0., 0.,\n",
              "          0., 0., 0., 0., 0., 0., 0., 0., 0., 0., 0., 0., 0., 0., 0., 0., 0., 0., 0., 0., 0., 0., 0.,\n",
              "          0., 0., 0., 0., 0., 0., 0., 0., 0., 0., 0., 0., 0., 0., 0., 0., 0., 0., 0., 0., 0., 0., 0.,\n",
              "          0., 0., 0., 0., 0., 0., 0., 0., 0., 0., 0., 0., 0., 0., 0., 0., 0., 0., 0., 0., 0., 0., 0.,\n",
              "          0., 0., 0., 0., 0., 0., 0., 0., 0., 0., 0., 0., 0., 0., 0., 0., 0., 0., 0., 0., 0., 0., 0.,\n",
              "          0., 0., 0., 0., 0., 0., 0., 0., 0., 0., 0., 0., 0., 0., 0., 0., 0., 0., 0., 0., 0., 0., 0.,\n",
              "          0., 0., 0., 0., 0., 0., 0., 0., 0., 0., 0., 0., 0., 0., 0., 0., 0., 0., 0., 0., 0., 0., 0.,\n",
              "          0., 0., 0., 0., 0., 0., 0., 0., 0., 0., 0., 0., 0., 0., 0., 0., 0., 0., 0., 0., 0., 0., 0.,\n",
              "          0., 0., 0., 0., 0., 0., 0., 0., 0., 0., 0., 0., 0., 0., 0., 0., 0., 0., 0., 0., 0., 0., 0.,\n",
              "          0., 0., 0., 0., 0., 0., 0., 0., 0., 0., 0., 0., 0., 0., 0., 0., 0., 0., 0., 0., 0., 0., 0.,\n",
              "          0., 0., 0.]]], device='cuda:0')"
            ]
          },
          "metadata": {
            "tags": []
          },
          "execution_count": 45
        }
      ]
    },
    {
      "cell_type": "code",
      "metadata": {
        "colab": {
          "base_uri": "https://localhost:8080/"
        },
        "id": "AjFuATIFLYli",
        "outputId": "2666d0fc-1ef1-4b49-ace8-2bc89e9727b8"
      },
      "source": [
        "(torch.zeros(2, 1, 256), torch.zeros(2, 1, 256))"
      ],
      "execution_count": null,
      "outputs": [
        {
          "output_type": "execute_result",
          "data": {
            "text/plain": [
              "(tensor([[[0., 0., 0., 0., 0., 0., 0., 0., 0., 0., 0., 0., 0., 0., 0., 0., 0., 0., 0., 0., 0., 0., 0.,\n",
              "           0., 0., 0., 0., 0., 0., 0., 0., 0., 0., 0., 0., 0., 0., 0., 0., 0., 0., 0., 0., 0., 0., 0.,\n",
              "           0., 0., 0., 0., 0., 0., 0., 0., 0., 0., 0., 0., 0., 0., 0., 0., 0., 0., 0., 0., 0., 0., 0.,\n",
              "           0., 0., 0., 0., 0., 0., 0., 0., 0., 0., 0., 0., 0., 0., 0., 0., 0., 0., 0., 0., 0., 0., 0.,\n",
              "           0., 0., 0., 0., 0., 0., 0., 0., 0., 0., 0., 0., 0., 0., 0., 0., 0., 0., 0., 0., 0., 0., 0.,\n",
              "           0., 0., 0., 0., 0., 0., 0., 0., 0., 0., 0., 0., 0., 0., 0., 0., 0., 0., 0., 0., 0., 0., 0.,\n",
              "           0., 0., 0., 0., 0., 0., 0., 0., 0., 0., 0., 0., 0., 0., 0., 0., 0., 0., 0., 0., 0., 0., 0.,\n",
              "           0., 0., 0., 0., 0., 0., 0., 0., 0., 0., 0., 0., 0., 0., 0., 0., 0., 0., 0., 0., 0., 0., 0.,\n",
              "           0., 0., 0., 0., 0., 0., 0., 0., 0., 0., 0., 0., 0., 0., 0., 0., 0., 0., 0., 0., 0., 0., 0.,\n",
              "           0., 0., 0., 0., 0., 0., 0., 0., 0., 0., 0., 0., 0., 0., 0., 0., 0., 0., 0., 0., 0., 0., 0.,\n",
              "           0., 0., 0., 0., 0., 0., 0., 0., 0., 0., 0., 0., 0., 0., 0., 0., 0., 0., 0., 0., 0., 0., 0.,\n",
              "           0., 0., 0.]],\n",
              " \n",
              "         [[0., 0., 0., 0., 0., 0., 0., 0., 0., 0., 0., 0., 0., 0., 0., 0., 0., 0., 0., 0., 0., 0., 0.,\n",
              "           0., 0., 0., 0., 0., 0., 0., 0., 0., 0., 0., 0., 0., 0., 0., 0., 0., 0., 0., 0., 0., 0., 0.,\n",
              "           0., 0., 0., 0., 0., 0., 0., 0., 0., 0., 0., 0., 0., 0., 0., 0., 0., 0., 0., 0., 0., 0., 0.,\n",
              "           0., 0., 0., 0., 0., 0., 0., 0., 0., 0., 0., 0., 0., 0., 0., 0., 0., 0., 0., 0., 0., 0., 0.,\n",
              "           0., 0., 0., 0., 0., 0., 0., 0., 0., 0., 0., 0., 0., 0., 0., 0., 0., 0., 0., 0., 0., 0., 0.,\n",
              "           0., 0., 0., 0., 0., 0., 0., 0., 0., 0., 0., 0., 0., 0., 0., 0., 0., 0., 0., 0., 0., 0., 0.,\n",
              "           0., 0., 0., 0., 0., 0., 0., 0., 0., 0., 0., 0., 0., 0., 0., 0., 0., 0., 0., 0., 0., 0., 0.,\n",
              "           0., 0., 0., 0., 0., 0., 0., 0., 0., 0., 0., 0., 0., 0., 0., 0., 0., 0., 0., 0., 0., 0., 0.,\n",
              "           0., 0., 0., 0., 0., 0., 0., 0., 0., 0., 0., 0., 0., 0., 0., 0., 0., 0., 0., 0., 0., 0., 0.,\n",
              "           0., 0., 0., 0., 0., 0., 0., 0., 0., 0., 0., 0., 0., 0., 0., 0., 0., 0., 0., 0., 0., 0., 0.,\n",
              "           0., 0., 0., 0., 0., 0., 0., 0., 0., 0., 0., 0., 0., 0., 0., 0., 0., 0., 0., 0., 0., 0., 0.,\n",
              "           0., 0., 0.]]]),\n",
              " tensor([[[0., 0., 0., 0., 0., 0., 0., 0., 0., 0., 0., 0., 0., 0., 0., 0., 0., 0., 0., 0., 0., 0., 0.,\n",
              "           0., 0., 0., 0., 0., 0., 0., 0., 0., 0., 0., 0., 0., 0., 0., 0., 0., 0., 0., 0., 0., 0., 0.,\n",
              "           0., 0., 0., 0., 0., 0., 0., 0., 0., 0., 0., 0., 0., 0., 0., 0., 0., 0., 0., 0., 0., 0., 0.,\n",
              "           0., 0., 0., 0., 0., 0., 0., 0., 0., 0., 0., 0., 0., 0., 0., 0., 0., 0., 0., 0., 0., 0., 0.,\n",
              "           0., 0., 0., 0., 0., 0., 0., 0., 0., 0., 0., 0., 0., 0., 0., 0., 0., 0., 0., 0., 0., 0., 0.,\n",
              "           0., 0., 0., 0., 0., 0., 0., 0., 0., 0., 0., 0., 0., 0., 0., 0., 0., 0., 0., 0., 0., 0., 0.,\n",
              "           0., 0., 0., 0., 0., 0., 0., 0., 0., 0., 0., 0., 0., 0., 0., 0., 0., 0., 0., 0., 0., 0., 0.,\n",
              "           0., 0., 0., 0., 0., 0., 0., 0., 0., 0., 0., 0., 0., 0., 0., 0., 0., 0., 0., 0., 0., 0., 0.,\n",
              "           0., 0., 0., 0., 0., 0., 0., 0., 0., 0., 0., 0., 0., 0., 0., 0., 0., 0., 0., 0., 0., 0., 0.,\n",
              "           0., 0., 0., 0., 0., 0., 0., 0., 0., 0., 0., 0., 0., 0., 0., 0., 0., 0., 0., 0., 0., 0., 0.,\n",
              "           0., 0., 0., 0., 0., 0., 0., 0., 0., 0., 0., 0., 0., 0., 0., 0., 0., 0., 0., 0., 0., 0., 0.,\n",
              "           0., 0., 0.]],\n",
              " \n",
              "         [[0., 0., 0., 0., 0., 0., 0., 0., 0., 0., 0., 0., 0., 0., 0., 0., 0., 0., 0., 0., 0., 0., 0.,\n",
              "           0., 0., 0., 0., 0., 0., 0., 0., 0., 0., 0., 0., 0., 0., 0., 0., 0., 0., 0., 0., 0., 0., 0.,\n",
              "           0., 0., 0., 0., 0., 0., 0., 0., 0., 0., 0., 0., 0., 0., 0., 0., 0., 0., 0., 0., 0., 0., 0.,\n",
              "           0., 0., 0., 0., 0., 0., 0., 0., 0., 0., 0., 0., 0., 0., 0., 0., 0., 0., 0., 0., 0., 0., 0.,\n",
              "           0., 0., 0., 0., 0., 0., 0., 0., 0., 0., 0., 0., 0., 0., 0., 0., 0., 0., 0., 0., 0., 0., 0.,\n",
              "           0., 0., 0., 0., 0., 0., 0., 0., 0., 0., 0., 0., 0., 0., 0., 0., 0., 0., 0., 0., 0., 0., 0.,\n",
              "           0., 0., 0., 0., 0., 0., 0., 0., 0., 0., 0., 0., 0., 0., 0., 0., 0., 0., 0., 0., 0., 0., 0.,\n",
              "           0., 0., 0., 0., 0., 0., 0., 0., 0., 0., 0., 0., 0., 0., 0., 0., 0., 0., 0., 0., 0., 0., 0.,\n",
              "           0., 0., 0., 0., 0., 0., 0., 0., 0., 0., 0., 0., 0., 0., 0., 0., 0., 0., 0., 0., 0., 0., 0.,\n",
              "           0., 0., 0., 0., 0., 0., 0., 0., 0., 0., 0., 0., 0., 0., 0., 0., 0., 0., 0., 0., 0., 0., 0.,\n",
              "           0., 0., 0., 0., 0., 0., 0., 0., 0., 0., 0., 0., 0., 0., 0., 0., 0., 0., 0., 0., 0., 0., 0.,\n",
              "           0., 0., 0.]]]))"
            ]
          },
          "metadata": {
            "tags": []
          },
          "execution_count": 46
        }
      ]
    },
    {
      "cell_type": "code",
      "metadata": {
        "colab": {
          "base_uri": "https://localhost:8080/"
        },
        "id": "QP9MC1VAMGiR",
        "outputId": "1797afc4-1ab1-4b8e-9b2b-a78f71b2bf32"
      },
      "source": [
        "!pip install torchaudio"
      ],
      "execution_count": null,
      "outputs": [
        {
          "output_type": "stream",
          "text": [
            "Collecting torchaudio\n",
            "\u001b[?25l  Downloading https://files.pythonhosted.org/packages/aa/55/01ad9244bcd595e39cea5ce30726a7fe02fd963d07daeb136bfe7e23f0a5/torchaudio-0.8.1-cp37-cp37m-manylinux1_x86_64.whl (1.9MB)\n",
            "\u001b[K     |████████████████████████████████| 1.9MB 6.7MB/s \n",
            "\u001b[?25hRequirement already satisfied: torch==1.8.1 in /usr/local/lib/python3.7/dist-packages (from torchaudio) (1.8.1+cu101)\n",
            "Requirement already satisfied: numpy in /usr/local/lib/python3.7/dist-packages (from torch==1.8.1->torchaudio) (1.19.5)\n",
            "Requirement already satisfied: typing-extensions in /usr/local/lib/python3.7/dist-packages (from torch==1.8.1->torchaudio) (3.7.4.3)\n",
            "Installing collected packages: torchaudio\n",
            "Successfully installed torchaudio-0.8.1\n"
          ],
          "name": "stdout"
        }
      ]
    },
    {
      "cell_type": "code",
      "metadata": {
        "colab": {
          "base_uri": "https://localhost:8080/",
          "height": 36
        },
        "id": "Obql4WDaofbi",
        "outputId": "32e7093b-7e68-48c0-e225-eaeee464882f"
      },
      "source": [
        "import torchaudio\n",
        "torchaudio.__version__"
      ],
      "execution_count": null,
      "outputs": [
        {
          "output_type": "execute_result",
          "data": {
            "application/vnd.google.colaboratory.intrinsic+json": {
              "type": "string"
            },
            "text/plain": [
              "'0.8.1'"
            ]
          },
          "metadata": {
            "tags": []
          },
          "execution_count": 2
        }
      ]
    },
    {
      "cell_type": "code",
      "metadata": {
        "colab": {
          "base_uri": "https://localhost:8080/",
          "height": 36
        },
        "id": "-BJt0YlSowWl",
        "outputId": "050b7704-144d-48f6-cfe0-e9a6f969c351"
      },
      "source": [
        "import torch\n",
        "torch.__version__"
      ],
      "execution_count": null,
      "outputs": [
        {
          "output_type": "execute_result",
          "data": {
            "application/vnd.google.colaboratory.intrinsic+json": {
              "type": "string"
            },
            "text/plain": [
              "'1.8.1+cu101'"
            ]
          },
          "metadata": {
            "tags": []
          },
          "execution_count": 3
        }
      ]
    },
    {
      "cell_type": "code",
      "metadata": {
        "id": "wCv7vS6SsuHr"
      },
      "source": [
        "# model\n",
        "import numpy as np # linear algebra\n",
        "import pandas as pd # data processing, CSV file I/O (e.g. pd.read_csv)\n",
        "import os\n",
        "import matplotlib.pyplot as plt\n",
        "from IPython.display import clear_output\n",
        "import torchaudio\n",
        "import torch\n",
        "import torch.nn as nn\n",
        "from sklearn import model_selection\n",
        "from sklearn import metrics\n",
        "from tabulate import tabulate\n",
        "from tqdm import tqdm\n",
        "from torch.utils.tensorboard import SummaryWriter\n",
        "import warnings\n",
        "warnings.filterwarnings(\"ignore\")\n",
        "class AudioLSTM(nn.Module):\n",
        "\n",
        "    def __init__(self, n_feature=5, out_feature=1, n_hidden=256, n_layers=2, drop_prob=0.5):\n",
        "        super().__init__()\n",
        "        self.drop_prob = drop_prob\n",
        "        self.n_layers = n_layers\n",
        "        self.n_hidden = n_hidden\n",
        "        self.n_feature = n_feature\n",
        "\n",
        "        self.lstm = nn.LSTM(self.n_feature, self.n_hidden, self.n_layers, dropout=self.drop_prob, batch_first=True)\n",
        "\n",
        "        self.dropout = nn.Dropout(drop_prob)\n",
        "\n",
        "        self.fc = nn.Linear(n_hidden, out_feature)\n",
        "\n",
        "    def forward(self, x, hidden):\n",
        "        # x.shape (batch, seq_len, n_features)\n",
        "        l_out, l_hidden = self.lstm(x, hidden)\n",
        "\n",
        "        # out.shape (batch, seq_len, n_hidden*direction)\n",
        "        out = self.dropout(l_out)\n",
        "\n",
        "        # out.shape (batch, out_feature)\n",
        "        out = self.fc(out[:, -1, :])\n",
        "\n",
        "        # return the final output and the hidden state\n",
        "        return out, l_hidden\n",
        "\n",
        "    def init_hidden(self, batch_size):\n",
        "        weight = next(self.parameters()).data\n",
        "\n",
        "        hidden = (weight.new(self.n_layers, batch_size, self.n_hidden).zero_().cuda(),\n",
        "                  weight.new(self.n_layers, batch_size, self.n_hidden).zero_().cuda())\n",
        "        return hidden"
      ],
      "execution_count": null,
      "outputs": []
    },
    {
      "cell_type": "code",
      "metadata": {
        "colab": {
          "base_uri": "https://localhost:8080/"
        },
        "id": "4vGCW2Xdo-J_",
        "outputId": "eecce7b6-b18e-4c08-d15b-e04541d8e509"
      },
      "source": [
        "# model = AudioLSTM(n_feature=168, out_feature=1)\n",
        "a = torch.load(\"/content/model_epoch_4.pth.tar\", map_location=torch.device(\"cpu\"))[\"model\"]\n",
        "a"
      ],
      "execution_count": null,
      "outputs": [
        {
          "output_type": "execute_result",
          "data": {
            "text/plain": [
              "AudioLSTM(\n",
              "  (lstm): LSTM(168, 256, num_layers=2, batch_first=True, dropout=0.5)\n",
              "  (dropout): Dropout(p=0.5, inplace=False)\n",
              "  (fc): Linear(in_features=256, out_features=1, bias=True)\n",
              ")"
            ]
          },
          "metadata": {
            "tags": []
          },
          "execution_count": 6
        }
      ]
    },
    {
      "cell_type": "code",
      "metadata": {
        "id": "kkBFBvrCqJo3"
      },
      "source": [
        ""
      ],
      "execution_count": null,
      "outputs": []
    }
  ]
}